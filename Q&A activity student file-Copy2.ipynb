{
 "cells": [
  {
   "cell_type": "markdown",
   "metadata": {},
   "source": [
    "## 1. Complete the following code to find the area of an equilateral triangle. Output should be as displayed"
   ]
  },
  {
   "cell_type": "code",
   "execution_count": 8,
   "metadata": {},
   "outputs": [
    {
     "name": "stdout",
     "output_type": "stream",
     "text": [
      "Enter the side of the equilateral triangle: 5\n",
      "Area =  10.825\n"
     ]
    }
   ],
   "source": [
    "import math\n",
    "side = float(input(\"Enter the side of the equilateral triangle: \"))\n",
    "area = ((math.sqrt(3))/4)*pow(side,2)\n",
    "print('Area = ',format(area,\".3f\"))\n"
   ]
  },
  {
   "cell_type": "markdown",
   "metadata": {},
   "source": [
    "## 2. Write a program to count the number of each characters in a string"
   ]
  },
  {
   "cell_type": "code",
   "execution_count": 17,
   "metadata": {},
   "outputs": [
    {
     "name": "stdout",
     "output_type": "stream",
     "text": [
      "Enter the string: Malayalam\n",
      "Counter({'a': 4, 'l': 2, 'M': 1, 'y': 1, 'm': 1})\n"
     ]
    }
   ],
   "source": [
    "from collections import Counter\n",
    "string=input('Enter the string: ')\n",
    "len_of_string_char=Counter(string)\n",
    "print(len_of_string_char)"
   ]
  },
  {
   "cell_type": "markdown",
   "metadata": {},
   "source": [
    "## 3. Write a program to find the area and perimeter of a rectangle using functions"
   ]
  },
  {
   "cell_type": "code",
   "execution_count": 11,
   "metadata": {},
   "outputs": [
    {
     "name": "stdout",
     "output_type": "stream",
     "text": [
      "Enter the length of the rectangale: 11\n",
      "Enter the breadth of the rectangale: 5\n",
      "Area =  55\n",
      "Perimeter =  32\n"
     ]
    }
   ],
   "source": [
    "def area(l,b):\n",
    "    ar=l*b\n",
    "    return ar\n",
    "def perimeter(l,b):\n",
    "    per=2*(l+b)\n",
    "    return per\n",
    "length=int(input('Enter the length of the rectangale: '))\n",
    "breadth=int(input('Enter the breadth of the rectangale: '))\n",
    "print('Area = ',area(length,breadth))\n",
    "print('Perimeter = ',perimeter(length,breadth))"
   ]
  },
  {
   "cell_type": "markdown",
   "metadata": {},
   "source": [
    "## 4. Write a program to print the fibonacci series till a specified number"
   ]
  },
  {
   "cell_type": "code",
   "execution_count": 16,
   "metadata": {},
   "outputs": [
    {
     "name": "stdout",
     "output_type": "stream",
     "text": [
      "Enter the sequence length: 7\n",
      "0\n",
      "1\n",
      "1\n",
      "2\n",
      "3\n",
      "5\n",
      "8\n"
     ]
    }
   ],
   "source": [
    "len_of_seq=int(input('Enter the sequence length: '))\n",
    "n1,n2,nth,count=0,1,0,0\n",
    "while count < len_of_seq:\n",
    "        print(n1)\n",
    "        nth = n1 + n2\n",
    "        n1 = n2\n",
    "        n2 = nth\n",
    "        count += 1"
   ]
  },
  {
   "cell_type": "markdown",
   "metadata": {},
   "source": [
    "## 5. Complete the following code to find the minimum of 3 number using conditional statements. Output should be as displayed"
   ]
  },
  {
   "cell_type": "code",
   "execution_count": 4,
   "metadata": {},
   "outputs": [
    {
     "name": "stdout",
     "output_type": "stream",
     "text": [
      "Enter three numbers followed by  : -19 -100 -9\n",
      "First number : -19\n",
      "Second number : -100\n",
      "Third number : -9\n",
      "-100  is smallest\n"
     ]
    }
   ],
   "source": [
    "a,b,c = input(\"Enter three numbers followed by  : \").split()\n",
    "\n",
    "print(\"First number :\",a)\n",
    "print(\"Second number :\",b)\n",
    "print(\"Third number :\",c)\n",
    "\n",
    "if(a==b==c):\n",
    "    print(\"Entered numbers are equal!!!\")\n",
    "elif (a<=b and a<=c):\n",
    "    print(a,\" is smallest\")\n",
    "elif (b<=a and b<=c):\n",
    "    print(b,\" is smallest\")\n",
    "elif (c<=a and c<=b):\n",
    "    print(c,\" is smallest\")"
   ]
  },
  {
   "cell_type": "markdown",
   "metadata": {},
   "source": [
    "## 6. Write a program to print star pyramind. The number of rows should be taken as input from the user"
   ]
  },
  {
   "cell_type": "code",
   "execution_count": 3,
   "metadata": {},
   "outputs": [
    {
     "name": "stdout",
     "output_type": "stream",
     "text": [
      "Enter the number of rows: 5\n",
      "    *\n",
      "   ***\n",
      "  *****\n",
      " *******\n",
      "*********\n"
     ]
    }
   ],
   "source": [
    "num=int(input('Enter the number of rows: '))\n",
    "def pyramid(n):\n",
    "    for i in range(0,n):\n",
    "        for j in range(0,n-i-1):\n",
    "            print(end=\" \")\n",
    "        for j in range(0,2*i+1):\n",
    "            print(\"*\",end=\"\")\n",
    "        print()\n",
    "pyramid(num)"
   ]
  },
  {
   "cell_type": "markdown",
   "metadata": {},
   "source": [
    "## 7. Complete the following code to convert hour into seconds. Output should be as displayed"
   ]
  },
  {
   "cell_type": "code",
   "execution_count": 9,
   "metadata": {},
   "outputs": [
    {
     "name": "stdout",
     "output_type": "stream",
     "text": [
      "Enter time in Hours : 24\n",
      "24  Hour is equal to 86400  Seconds\n"
     ]
    }
   ],
   "source": [
    "def to_seconds(t):\n",
    "    t=t*60*60\n",
    "    return t\n",
    "time_in_hours = int(input('Enter time in Hours : '))\n",
    "print(time_in_hours ,\" Hour is equal to\" ,to_seconds(time_in_hours) ,\" Seconds\")"
   ]
  },
  {
   "cell_type": "markdown",
   "metadata": {},
   "source": [
    "## 8. Write a program to print multiplication table as below"
   ]
  },
  {
   "cell_type": "code",
   "execution_count": 5,
   "metadata": {},
   "outputs": [
    {
     "name": "stdout",
     "output_type": "stream",
     "text": [
      "Enter a number to find the multiplication table:67\n",
      "1 * 67 = 67\n",
      "2 * 67 = 134\n",
      "3 * 67 = 201\n",
      "4 * 67 = 268\n",
      "5 * 67 = 335\n",
      "6 * 67 = 402\n",
      "7 * 67 = 469\n",
      "8 * 67 = 536\n",
      "9 * 67 = 603\n",
      "10 * 67 = 670\n"
     ]
    }
   ],
   "source": [
    "num=int(input('Enter a number to find the multiplication table:'))\n",
    "for i in range(1,11):\n",
    "    print(i,'*',num,'=',i*num)"
   ]
  },
  {
   "cell_type": "markdown",
   "metadata": {},
   "source": [
    "## 9. Write a program to take your 5 favorite food as list and print each as 'I like Biriyani'"
   ]
  },
  {
   "cell_type": "code",
   "execution_count": 6,
   "metadata": {},
   "outputs": [
    {
     "name": "stdout",
     "output_type": "stream",
     "text": [
      "Enter five of your favourite food items\n",
      "Dosa Chappathi Biriyani Samosa Pulav\n",
      "I like  Dosa\n",
      "I like  Chappathi\n",
      "I like  Biriyani\n",
      "I like  Samosa\n",
      "I like  Pulav\n"
     ]
    }
   ],
   "source": [
    "a,b,c,d,e=input(\"Enter five of your favourite food items\\n\").split()\n",
    "L=[a,b,c,d,e]\n",
    "for i in L:\n",
    "    print('I like ',i)"
   ]
  }
 ],
 "metadata": {
  "kernelspec": {
   "display_name": "Python 3 (ipykernel)",
   "language": "python",
   "name": "python3"
  },
  "language_info": {
   "codemirror_mode": {
    "name": "ipython",
    "version": 3
   },
   "file_extension": ".py",
   "mimetype": "text/x-python",
   "name": "python",
   "nbconvert_exporter": "python",
   "pygments_lexer": "ipython3",
   "version": "3.9.7"
  }
 },
 "nbformat": 4,
 "nbformat_minor": 4
}
