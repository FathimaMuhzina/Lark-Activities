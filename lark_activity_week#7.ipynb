{
 "cells": [
  {
   "cell_type": "code",
   "execution_count": 11,
   "id": "b165613f",
   "metadata": {},
   "outputs": [],
   "source": [
    "import pandas as pd\n",
    "import numpy as np"
   ]
  },
  {
   "cell_type": "code",
   "execution_count": 4,
   "id": "38f4a73f",
   "metadata": {},
   "outputs": [],
   "source": [
    "test_prep=pd.read_csv('dataset w7.csv')"
   ]
  },
  {
   "cell_type": "markdown",
   "id": "2fe071b5",
   "metadata": {},
   "source": [
    "# 1. Carry out descriptive analytics on the dataset."
   ]
  },
  {
   "cell_type": "code",
   "execution_count": 5,
   "id": "90e5c2c1",
   "metadata": {
    "scrolled": true
   },
   "outputs": [
    {
     "data": {
      "text/html": [
       "<div>\n",
       "<style scoped>\n",
       "    .dataframe tbody tr th:only-of-type {\n",
       "        vertical-align: middle;\n",
       "    }\n",
       "\n",
       "    .dataframe tbody tr th {\n",
       "        vertical-align: top;\n",
       "    }\n",
       "\n",
       "    .dataframe thead th {\n",
       "        text-align: right;\n",
       "    }\n",
       "</style>\n",
       "<table border=\"1\" class=\"dataframe\">\n",
       "  <thead>\n",
       "    <tr style=\"text-align: right;\">\n",
       "      <th></th>\n",
       "      <th>Total Marks</th>\n",
       "    </tr>\n",
       "  </thead>\n",
       "  <tbody>\n",
       "    <tr>\n",
       "      <th>count</th>\n",
       "      <td>28.000000</td>\n",
       "    </tr>\n",
       "    <tr>\n",
       "      <th>mean</th>\n",
       "      <td>32.321429</td>\n",
       "    </tr>\n",
       "    <tr>\n",
       "      <th>std</th>\n",
       "      <td>12.454520</td>\n",
       "    </tr>\n",
       "    <tr>\n",
       "      <th>min</th>\n",
       "      <td>12.000000</td>\n",
       "    </tr>\n",
       "    <tr>\n",
       "      <th>25%</th>\n",
       "      <td>22.500000</td>\n",
       "    </tr>\n",
       "    <tr>\n",
       "      <th>50%</th>\n",
       "      <td>33.000000</td>\n",
       "    </tr>\n",
       "    <tr>\n",
       "      <th>75%</th>\n",
       "      <td>43.250000</td>\n",
       "    </tr>\n",
       "    <tr>\n",
       "      <th>max</th>\n",
       "      <td>50.000000</td>\n",
       "    </tr>\n",
       "  </tbody>\n",
       "</table>\n",
       "</div>"
      ],
      "text/plain": [
       "       Total Marks\n",
       "count    28.000000\n",
       "mean     32.321429\n",
       "std      12.454520\n",
       "min      12.000000\n",
       "25%      22.500000\n",
       "50%      33.000000\n",
       "75%      43.250000\n",
       "max      50.000000"
      ]
     },
     "execution_count": 5,
     "metadata": {},
     "output_type": "execute_result"
    }
   ],
   "source": [
    "test_prep.describe()"
   ]
  },
  {
   "cell_type": "markdown",
   "id": "9df569d0",
   "metadata": {},
   "source": [
    "# 2. Check whether female and male students scored the same marks."
   ]
  },
  {
   "cell_type": "code",
   "execution_count": 15,
   "id": "4a0bc8ab",
   "metadata": {},
   "outputs": [
    {
     "data": {
      "text/plain": [
       "Ttest_indResult(statistic=-0.6940885268848668, pvalue=0.4937822317960763)"
      ]
     },
     "execution_count": 15,
     "metadata": {},
     "output_type": "execute_result"
    }
   ],
   "source": [
    "import scipy.stats as stats\n",
    "stats.ttest_ind(test_prep['Total Marks'][test_prep['Gender'] == 'male'],\n",
    "                 test_prep['Total Marks'][test_prep['Gender'] == 'female'])"
   ]
  },
  {
   "cell_type": "markdown",
   "id": "fe08facb",
   "metadata": {},
   "source": [
    "    Interpretation\n",
    "    \n",
    "    Since we have to prove the marks are not same,\n",
    "    our Null Hypothesis is 'The marks scored by male and female students are not same'.\n",
    "    \n",
    "    degrees of freedom = n-2 = 28-2 = 26\n",
    "    significance level = 5% = 0.05\n",
    "    corresponding t-score = 2.056\n",
    "    \n",
    "    Here, |t-score|=0.69<2.056\n",
    "    Therefore, we cannot reject the null hypothesis.\n",
    "    \n",
    "    Also, p-value=0.49>0.05\n",
    "    Therefore, we cannot reject the null hypothesis.\n",
    "    \n",
    "    That is, the marks are not same.\n"
   ]
  },
  {
   "cell_type": "markdown",
   "id": "d9f002a7",
   "metadata": {},
   "source": [
    "# 3. Whether test preparation helps the students?"
   ]
  },
  {
   "cell_type": "code",
   "execution_count": 14,
   "id": "9db1c780",
   "metadata": {},
   "outputs": [
    {
     "data": {
      "text/plain": [
       "Ttest_indResult(statistic=-3.6143637527769217, pvalue=0.0012671292457320106)"
      ]
     },
     "execution_count": 14,
     "metadata": {},
     "output_type": "execute_result"
    }
   ],
   "source": [
    "import scipy.stats as stats\n",
    "stats.ttest_ind(test_prep['Total Marks'][test_prep['Test preparation'] == 'none'],\n",
    "                 test_prep['Total Marks'][test_prep['Test preparation'] == 'completed'])"
   ]
  },
  {
   "cell_type": "markdown",
   "id": "ff749087",
   "metadata": {},
   "source": [
    "    Interpretation\n",
    "\n",
    "    Since we have to prove the test preparation helps the students,\n",
    "    our Null Hypothesis is 'Test preparation does not help the students'.\n",
    "\n",
    "    degrees of freedom = n-2 = 28-2 = 26\n",
    "    significance level = 5% = 0.05\n",
    "    corresponding t-score = 2.056\n",
    "\n",
    "    Here, |t-score|=3.614>2.056\n",
    "    Therefore, we can reject the null hypothesis.\n",
    "\n",
    "    Also, p-value=0.001<0.05\n",
    "    Therefore, we can reject the null hypothesis.\n",
    "\n",
    "    That is, Test preparation actually helps the students."
   ]
  },
  {
   "cell_type": "code",
   "execution_count": null,
   "id": "b5cb99fb",
   "metadata": {},
   "outputs": [],
   "source": []
  }
 ],
 "metadata": {
  "kernelspec": {
   "display_name": "Python 3 (ipykernel)",
   "language": "python",
   "name": "python3"
  },
  "language_info": {
   "codemirror_mode": {
    "name": "ipython",
    "version": 3
   },
   "file_extension": ".py",
   "mimetype": "text/x-python",
   "name": "python",
   "nbconvert_exporter": "python",
   "pygments_lexer": "ipython3",
   "version": "3.9.7"
  }
 },
 "nbformat": 4,
 "nbformat_minor": 5
}
