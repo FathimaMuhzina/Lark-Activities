{
 "cells": [
  {
   "cell_type": "code",
   "execution_count": 1,
   "id": "eb92d3cf",
   "metadata": {},
   "outputs": [],
   "source": [
    "import numpy as np\n",
    "import pandas as pd\n",
    "import matplotlib.pyplot as plt\n",
    "import seaborn as sns"
   ]
  },
  {
   "cell_type": "code",
   "execution_count": 2,
   "id": "5b4ea852",
   "metadata": {},
   "outputs": [
    {
     "data": {
      "text/html": [
       "<div>\n",
       "<style scoped>\n",
       "    .dataframe tbody tr th:only-of-type {\n",
       "        vertical-align: middle;\n",
       "    }\n",
       "\n",
       "    .dataframe tbody tr th {\n",
       "        vertical-align: top;\n",
       "    }\n",
       "\n",
       "    .dataframe thead th {\n",
       "        text-align: right;\n",
       "    }\n",
       "</style>\n",
       "<table border=\"1\" class=\"dataframe\">\n",
       "  <thead>\n",
       "    <tr style=\"text-align: right;\">\n",
       "      <th></th>\n",
       "      <th>country</th>\n",
       "      <th>child_mort</th>\n",
       "      <th>exports</th>\n",
       "      <th>health</th>\n",
       "      <th>imports</th>\n",
       "      <th>income</th>\n",
       "      <th>inflation</th>\n",
       "      <th>life_expec</th>\n",
       "      <th>total_fer</th>\n",
       "      <th>gdpp</th>\n",
       "    </tr>\n",
       "  </thead>\n",
       "  <tbody>\n",
       "    <tr>\n",
       "      <th>0</th>\n",
       "      <td>Afghanistan</td>\n",
       "      <td>90.2</td>\n",
       "      <td>10.0</td>\n",
       "      <td>7.58</td>\n",
       "      <td>44.9</td>\n",
       "      <td>1610</td>\n",
       "      <td>9.44</td>\n",
       "      <td>56.2</td>\n",
       "      <td>5.82</td>\n",
       "      <td>553</td>\n",
       "    </tr>\n",
       "    <tr>\n",
       "      <th>1</th>\n",
       "      <td>Albania</td>\n",
       "      <td>16.6</td>\n",
       "      <td>28.0</td>\n",
       "      <td>6.55</td>\n",
       "      <td>48.6</td>\n",
       "      <td>9930</td>\n",
       "      <td>4.49</td>\n",
       "      <td>76.3</td>\n",
       "      <td>1.65</td>\n",
       "      <td>4090</td>\n",
       "    </tr>\n",
       "    <tr>\n",
       "      <th>2</th>\n",
       "      <td>Algeria</td>\n",
       "      <td>27.3</td>\n",
       "      <td>38.4</td>\n",
       "      <td>4.17</td>\n",
       "      <td>31.4</td>\n",
       "      <td>12900</td>\n",
       "      <td>16.10</td>\n",
       "      <td>76.5</td>\n",
       "      <td>2.89</td>\n",
       "      <td>4460</td>\n",
       "    </tr>\n",
       "    <tr>\n",
       "      <th>3</th>\n",
       "      <td>Angola</td>\n",
       "      <td>119.0</td>\n",
       "      <td>62.3</td>\n",
       "      <td>2.85</td>\n",
       "      <td>42.9</td>\n",
       "      <td>5900</td>\n",
       "      <td>22.40</td>\n",
       "      <td>60.1</td>\n",
       "      <td>6.16</td>\n",
       "      <td>3530</td>\n",
       "    </tr>\n",
       "    <tr>\n",
       "      <th>4</th>\n",
       "      <td>Antigua and Barbuda</td>\n",
       "      <td>10.3</td>\n",
       "      <td>45.5</td>\n",
       "      <td>6.03</td>\n",
       "      <td>58.9</td>\n",
       "      <td>19100</td>\n",
       "      <td>1.44</td>\n",
       "      <td>76.8</td>\n",
       "      <td>2.13</td>\n",
       "      <td>12200</td>\n",
       "    </tr>\n",
       "    <tr>\n",
       "      <th>...</th>\n",
       "      <td>...</td>\n",
       "      <td>...</td>\n",
       "      <td>...</td>\n",
       "      <td>...</td>\n",
       "      <td>...</td>\n",
       "      <td>...</td>\n",
       "      <td>...</td>\n",
       "      <td>...</td>\n",
       "      <td>...</td>\n",
       "      <td>...</td>\n",
       "    </tr>\n",
       "    <tr>\n",
       "      <th>162</th>\n",
       "      <td>Vanuatu</td>\n",
       "      <td>29.2</td>\n",
       "      <td>46.6</td>\n",
       "      <td>5.25</td>\n",
       "      <td>52.7</td>\n",
       "      <td>2950</td>\n",
       "      <td>2.62</td>\n",
       "      <td>63.0</td>\n",
       "      <td>3.50</td>\n",
       "      <td>2970</td>\n",
       "    </tr>\n",
       "    <tr>\n",
       "      <th>163</th>\n",
       "      <td>Venezuela</td>\n",
       "      <td>17.1</td>\n",
       "      <td>28.5</td>\n",
       "      <td>4.91</td>\n",
       "      <td>17.6</td>\n",
       "      <td>16500</td>\n",
       "      <td>45.90</td>\n",
       "      <td>75.4</td>\n",
       "      <td>2.47</td>\n",
       "      <td>13500</td>\n",
       "    </tr>\n",
       "    <tr>\n",
       "      <th>164</th>\n",
       "      <td>Vietnam</td>\n",
       "      <td>23.3</td>\n",
       "      <td>72.0</td>\n",
       "      <td>6.84</td>\n",
       "      <td>80.2</td>\n",
       "      <td>4490</td>\n",
       "      <td>12.10</td>\n",
       "      <td>73.1</td>\n",
       "      <td>1.95</td>\n",
       "      <td>1310</td>\n",
       "    </tr>\n",
       "    <tr>\n",
       "      <th>165</th>\n",
       "      <td>Yemen</td>\n",
       "      <td>56.3</td>\n",
       "      <td>30.0</td>\n",
       "      <td>5.18</td>\n",
       "      <td>34.4</td>\n",
       "      <td>4480</td>\n",
       "      <td>23.60</td>\n",
       "      <td>67.5</td>\n",
       "      <td>4.67</td>\n",
       "      <td>1310</td>\n",
       "    </tr>\n",
       "    <tr>\n",
       "      <th>166</th>\n",
       "      <td>Zambia</td>\n",
       "      <td>83.1</td>\n",
       "      <td>37.0</td>\n",
       "      <td>5.89</td>\n",
       "      <td>30.9</td>\n",
       "      <td>3280</td>\n",
       "      <td>14.00</td>\n",
       "      <td>52.0</td>\n",
       "      <td>5.40</td>\n",
       "      <td>1460</td>\n",
       "    </tr>\n",
       "  </tbody>\n",
       "</table>\n",
       "<p>167 rows × 10 columns</p>\n",
       "</div>"
      ],
      "text/plain": [
       "                 country  child_mort  exports  health  imports  income  \\\n",
       "0            Afghanistan        90.2     10.0    7.58     44.9    1610   \n",
       "1                Albania        16.6     28.0    6.55     48.6    9930   \n",
       "2                Algeria        27.3     38.4    4.17     31.4   12900   \n",
       "3                 Angola       119.0     62.3    2.85     42.9    5900   \n",
       "4    Antigua and Barbuda        10.3     45.5    6.03     58.9   19100   \n",
       "..                   ...         ...      ...     ...      ...     ...   \n",
       "162              Vanuatu        29.2     46.6    5.25     52.7    2950   \n",
       "163            Venezuela        17.1     28.5    4.91     17.6   16500   \n",
       "164              Vietnam        23.3     72.0    6.84     80.2    4490   \n",
       "165                Yemen        56.3     30.0    5.18     34.4    4480   \n",
       "166               Zambia        83.1     37.0    5.89     30.9    3280   \n",
       "\n",
       "     inflation  life_expec  total_fer   gdpp  \n",
       "0         9.44        56.2       5.82    553  \n",
       "1         4.49        76.3       1.65   4090  \n",
       "2        16.10        76.5       2.89   4460  \n",
       "3        22.40        60.1       6.16   3530  \n",
       "4         1.44        76.8       2.13  12200  \n",
       "..         ...         ...        ...    ...  \n",
       "162       2.62        63.0       3.50   2970  \n",
       "163      45.90        75.4       2.47  13500  \n",
       "164      12.10        73.1       1.95   1310  \n",
       "165      23.60        67.5       4.67   1310  \n",
       "166      14.00        52.0       5.40   1460  \n",
       "\n",
       "[167 rows x 10 columns]"
      ]
     },
     "execution_count": 2,
     "metadata": {},
     "output_type": "execute_result"
    }
   ],
   "source": [
    "df = pd.read_csv('Country-data.csv')\n",
    "df"
   ]
  },
  {
   "cell_type": "markdown",
   "id": "9105836c",
   "metadata": {},
   "source": [
    "# Preprocessing"
   ]
  },
  {
   "cell_type": "code",
   "execution_count": 3,
   "id": "e3c9ac4e",
   "metadata": {},
   "outputs": [
    {
     "name": "stdout",
     "output_type": "stream",
     "text": [
      "<class 'pandas.core.frame.DataFrame'>\n",
      "RangeIndex: 167 entries, 0 to 166\n",
      "Data columns (total 10 columns):\n",
      " #   Column      Non-Null Count  Dtype  \n",
      "---  ------      --------------  -----  \n",
      " 0   country     167 non-null    object \n",
      " 1   child_mort  167 non-null    float64\n",
      " 2   exports     167 non-null    float64\n",
      " 3   health      167 non-null    float64\n",
      " 4   imports     167 non-null    float64\n",
      " 5   income      167 non-null    int64  \n",
      " 6   inflation   167 non-null    float64\n",
      " 7   life_expec  167 non-null    float64\n",
      " 8   total_fer   167 non-null    float64\n",
      " 9   gdpp        167 non-null    int64  \n",
      "dtypes: float64(7), int64(2), object(1)\n",
      "memory usage: 13.2+ KB\n"
     ]
    }
   ],
   "source": [
    "df.info()"
   ]
  },
  {
   "cell_type": "code",
   "execution_count": 4,
   "id": "65490014",
   "metadata": {},
   "outputs": [
    {
     "data": {
      "text/html": [
       "<div>\n",
       "<style scoped>\n",
       "    .dataframe tbody tr th:only-of-type {\n",
       "        vertical-align: middle;\n",
       "    }\n",
       "\n",
       "    .dataframe tbody tr th {\n",
       "        vertical-align: top;\n",
       "    }\n",
       "\n",
       "    .dataframe thead th {\n",
       "        text-align: right;\n",
       "    }\n",
       "</style>\n",
       "<table border=\"1\" class=\"dataframe\">\n",
       "  <thead>\n",
       "    <tr style=\"text-align: right;\">\n",
       "      <th></th>\n",
       "      <th>child_mort</th>\n",
       "      <th>exports</th>\n",
       "      <th>health</th>\n",
       "      <th>imports</th>\n",
       "      <th>income</th>\n",
       "      <th>inflation</th>\n",
       "      <th>life_expec</th>\n",
       "      <th>total_fer</th>\n",
       "      <th>gdpp</th>\n",
       "    </tr>\n",
       "  </thead>\n",
       "  <tbody>\n",
       "    <tr>\n",
       "      <th>count</th>\n",
       "      <td>167.000000</td>\n",
       "      <td>167.000000</td>\n",
       "      <td>167.000000</td>\n",
       "      <td>167.000000</td>\n",
       "      <td>167.000000</td>\n",
       "      <td>167.000000</td>\n",
       "      <td>167.000000</td>\n",
       "      <td>167.000000</td>\n",
       "      <td>167.000000</td>\n",
       "    </tr>\n",
       "    <tr>\n",
       "      <th>mean</th>\n",
       "      <td>38.270060</td>\n",
       "      <td>41.108976</td>\n",
       "      <td>6.815689</td>\n",
       "      <td>46.890215</td>\n",
       "      <td>17144.688623</td>\n",
       "      <td>7.781832</td>\n",
       "      <td>70.555689</td>\n",
       "      <td>2.947964</td>\n",
       "      <td>12964.155689</td>\n",
       "    </tr>\n",
       "    <tr>\n",
       "      <th>std</th>\n",
       "      <td>40.328931</td>\n",
       "      <td>27.412010</td>\n",
       "      <td>2.746837</td>\n",
       "      <td>24.209589</td>\n",
       "      <td>19278.067698</td>\n",
       "      <td>10.570704</td>\n",
       "      <td>8.893172</td>\n",
       "      <td>1.513848</td>\n",
       "      <td>18328.704809</td>\n",
       "    </tr>\n",
       "    <tr>\n",
       "      <th>min</th>\n",
       "      <td>2.600000</td>\n",
       "      <td>0.109000</td>\n",
       "      <td>1.810000</td>\n",
       "      <td>0.065900</td>\n",
       "      <td>609.000000</td>\n",
       "      <td>-4.210000</td>\n",
       "      <td>32.100000</td>\n",
       "      <td>1.150000</td>\n",
       "      <td>231.000000</td>\n",
       "    </tr>\n",
       "    <tr>\n",
       "      <th>25%</th>\n",
       "      <td>8.250000</td>\n",
       "      <td>23.800000</td>\n",
       "      <td>4.920000</td>\n",
       "      <td>30.200000</td>\n",
       "      <td>3355.000000</td>\n",
       "      <td>1.810000</td>\n",
       "      <td>65.300000</td>\n",
       "      <td>1.795000</td>\n",
       "      <td>1330.000000</td>\n",
       "    </tr>\n",
       "    <tr>\n",
       "      <th>50%</th>\n",
       "      <td>19.300000</td>\n",
       "      <td>35.000000</td>\n",
       "      <td>6.320000</td>\n",
       "      <td>43.300000</td>\n",
       "      <td>9960.000000</td>\n",
       "      <td>5.390000</td>\n",
       "      <td>73.100000</td>\n",
       "      <td>2.410000</td>\n",
       "      <td>4660.000000</td>\n",
       "    </tr>\n",
       "    <tr>\n",
       "      <th>75%</th>\n",
       "      <td>62.100000</td>\n",
       "      <td>51.350000</td>\n",
       "      <td>8.600000</td>\n",
       "      <td>58.750000</td>\n",
       "      <td>22800.000000</td>\n",
       "      <td>10.750000</td>\n",
       "      <td>76.800000</td>\n",
       "      <td>3.880000</td>\n",
       "      <td>14050.000000</td>\n",
       "    </tr>\n",
       "    <tr>\n",
       "      <th>max</th>\n",
       "      <td>208.000000</td>\n",
       "      <td>200.000000</td>\n",
       "      <td>17.900000</td>\n",
       "      <td>174.000000</td>\n",
       "      <td>125000.000000</td>\n",
       "      <td>104.000000</td>\n",
       "      <td>82.800000</td>\n",
       "      <td>7.490000</td>\n",
       "      <td>105000.000000</td>\n",
       "    </tr>\n",
       "  </tbody>\n",
       "</table>\n",
       "</div>"
      ],
      "text/plain": [
       "       child_mort     exports      health     imports         income  \\\n",
       "count  167.000000  167.000000  167.000000  167.000000     167.000000   \n",
       "mean    38.270060   41.108976    6.815689   46.890215   17144.688623   \n",
       "std     40.328931   27.412010    2.746837   24.209589   19278.067698   \n",
       "min      2.600000    0.109000    1.810000    0.065900     609.000000   \n",
       "25%      8.250000   23.800000    4.920000   30.200000    3355.000000   \n",
       "50%     19.300000   35.000000    6.320000   43.300000    9960.000000   \n",
       "75%     62.100000   51.350000    8.600000   58.750000   22800.000000   \n",
       "max    208.000000  200.000000   17.900000  174.000000  125000.000000   \n",
       "\n",
       "        inflation  life_expec   total_fer           gdpp  \n",
       "count  167.000000  167.000000  167.000000     167.000000  \n",
       "mean     7.781832   70.555689    2.947964   12964.155689  \n",
       "std     10.570704    8.893172    1.513848   18328.704809  \n",
       "min     -4.210000   32.100000    1.150000     231.000000  \n",
       "25%      1.810000   65.300000    1.795000    1330.000000  \n",
       "50%      5.390000   73.100000    2.410000    4660.000000  \n",
       "75%     10.750000   76.800000    3.880000   14050.000000  \n",
       "max    104.000000   82.800000    7.490000  105000.000000  "
      ]
     },
     "execution_count": 4,
     "metadata": {},
     "output_type": "execute_result"
    }
   ],
   "source": [
    "df.describe()"
   ]
  },
  {
   "cell_type": "code",
   "execution_count": 5,
   "id": "8db72210",
   "metadata": {},
   "outputs": [
    {
     "data": {
      "text/plain": [
       "country       0\n",
       "child_mort    0\n",
       "exports       0\n",
       "health        0\n",
       "imports       0\n",
       "income        0\n",
       "inflation     0\n",
       "life_expec    0\n",
       "total_fer     0\n",
       "gdpp          0\n",
       "dtype: int64"
      ]
     },
     "execution_count": 5,
     "metadata": {},
     "output_type": "execute_result"
    }
   ],
   "source": [
    "df.isnull().sum()"
   ]
  },
  {
   "cell_type": "code",
   "execution_count": 6,
   "id": "2701bbed",
   "metadata": {},
   "outputs": [],
   "source": [
    "#No missing values"
   ]
  },
  {
   "cell_type": "code",
   "execution_count": 7,
   "id": "4612f195",
   "metadata": {},
   "outputs": [
    {
     "data": {
      "text/plain": [
       "(167, 10)"
      ]
     },
     "execution_count": 7,
     "metadata": {},
     "output_type": "execute_result"
    }
   ],
   "source": [
    "df.shape"
   ]
  },
  {
   "cell_type": "code",
   "execution_count": 8,
   "id": "f3d47354",
   "metadata": {},
   "outputs": [
    {
     "data": {
      "text/plain": [
       "False    167\n",
       "Name: country, dtype: int64"
      ]
     },
     "execution_count": 8,
     "metadata": {},
     "output_type": "execute_result"
    }
   ],
   "source": [
    "df['country'].duplicated().value_counts()"
   ]
  },
  {
   "cell_type": "code",
   "execution_count": 9,
   "id": "0a81cd59",
   "metadata": {},
   "outputs": [],
   "source": [
    "#No duplicate country names\n",
    "# Since outliers really matters in this dataset, we do not remove outliers."
   ]
  },
  {
   "cell_type": "code",
   "execution_count": 10,
   "id": "9fa73e69",
   "metadata": {},
   "outputs": [
    {
     "data": {
      "image/png": "[encoded data removed]",
      "text/plain": [
       "<Figure size 1152x720 with 2 Axes>"
      ]
     },
     "metadata": {
      "needs_background": "light"
     },
     "output_type": "display_data"
    }
   ],
   "source": [
    "plt.figure(figsize = (16, 10))\n",
    "sns.heatmap(df.corr(), vmax=0.9, vmin=-0.89, annot = True, cmap=\"YlGnBu\")\n",
    "plt.show()"
   ]
  },
  {
   "cell_type": "code",
   "execution_count": 11,
   "id": "d4eaf0bc",
   "metadata": {},
   "outputs": [],
   "source": [
    "#There are features with high correlation. Therefore, we may use PCA."
   ]
  },
  {
   "cell_type": "code",
   "execution_count": 12,
   "id": "2c8878f1",
   "metadata": {},
   "outputs": [],
   "source": [
    "#Scaling Data"
   ]
  },
  {
   "cell_type": "code",
   "execution_count": 13,
   "id": "465aa574",
   "metadata": {},
   "outputs": [],
   "source": [
    "from sklearn.preprocessing import StandardScaler\n",
    "numerical = df.drop('country', axis=1)\n",
    "standard_scaler = StandardScaler()\n",
    "numerical = standard_scaler.fit_transform(numerical)"
   ]
  },
  {
   "cell_type": "code",
   "execution_count": 14,
   "id": "209a64cf",
   "metadata": {},
   "outputs": [
    {
     "data": {
      "text/html": [
       "<div>\n",
       "<style scoped>\n",
       "    .dataframe tbody tr th:only-of-type {\n",
       "        vertical-align: middle;\n",
       "    }\n",
       "\n",
       "    .dataframe tbody tr th {\n",
       "        vertical-align: top;\n",
       "    }\n",
       "\n",
       "    .dataframe thead th {\n",
       "        text-align: right;\n",
       "    }\n",
       "</style>\n",
       "<table border=\"1\" class=\"dataframe\">\n",
       "  <thead>\n",
       "    <tr style=\"text-align: right;\">\n",
       "      <th></th>\n",
       "      <th>child_mort</th>\n",
       "      <th>exports</th>\n",
       "      <th>health</th>\n",
       "      <th>imports</th>\n",
       "      <th>income</th>\n",
       "      <th>inflation</th>\n",
       "      <th>life_expec</th>\n",
       "      <th>total_fer</th>\n",
       "      <th>gdpp</th>\n",
       "    </tr>\n",
       "  </thead>\n",
       "  <tbody>\n",
       "    <tr>\n",
       "      <th>0</th>\n",
       "      <td>1.291532</td>\n",
       "      <td>-1.138280</td>\n",
       "      <td>0.279088</td>\n",
       "      <td>-0.082455</td>\n",
       "      <td>-0.808245</td>\n",
       "      <td>0.157336</td>\n",
       "      <td>-1.619092</td>\n",
       "      <td>1.902882</td>\n",
       "      <td>-0.679180</td>\n",
       "    </tr>\n",
       "    <tr>\n",
       "      <th>1</th>\n",
       "      <td>-0.538949</td>\n",
       "      <td>-0.479658</td>\n",
       "      <td>-0.097016</td>\n",
       "      <td>0.070837</td>\n",
       "      <td>-0.375369</td>\n",
       "      <td>-0.312347</td>\n",
       "      <td>0.647866</td>\n",
       "      <td>-0.859973</td>\n",
       "      <td>-0.485623</td>\n",
       "    </tr>\n",
       "    <tr>\n",
       "      <th>2</th>\n",
       "      <td>-0.272833</td>\n",
       "      <td>-0.099122</td>\n",
       "      <td>-0.966073</td>\n",
       "      <td>-0.641762</td>\n",
       "      <td>-0.220844</td>\n",
       "      <td>0.789274</td>\n",
       "      <td>0.670423</td>\n",
       "      <td>-0.038404</td>\n",
       "      <td>-0.465376</td>\n",
       "    </tr>\n",
       "    <tr>\n",
       "      <th>3</th>\n",
       "      <td>2.007808</td>\n",
       "      <td>0.775381</td>\n",
       "      <td>-1.448071</td>\n",
       "      <td>-0.165315</td>\n",
       "      <td>-0.585043</td>\n",
       "      <td>1.387054</td>\n",
       "      <td>-1.179234</td>\n",
       "      <td>2.128151</td>\n",
       "      <td>-0.516268</td>\n",
       "    </tr>\n",
       "    <tr>\n",
       "      <th>4</th>\n",
       "      <td>-0.695634</td>\n",
       "      <td>0.160668</td>\n",
       "      <td>-0.286894</td>\n",
       "      <td>0.497568</td>\n",
       "      <td>0.101732</td>\n",
       "      <td>-0.601749</td>\n",
       "      <td>0.704258</td>\n",
       "      <td>-0.541946</td>\n",
       "      <td>-0.041817</td>\n",
       "    </tr>\n",
       "    <tr>\n",
       "      <th>...</th>\n",
       "      <td>...</td>\n",
       "      <td>...</td>\n",
       "      <td>...</td>\n",
       "      <td>...</td>\n",
       "      <td>...</td>\n",
       "      <td>...</td>\n",
       "      <td>...</td>\n",
       "      <td>...</td>\n",
       "      <td>...</td>\n",
       "    </tr>\n",
       "    <tr>\n",
       "      <th>162</th>\n",
       "      <td>-0.225578</td>\n",
       "      <td>0.200917</td>\n",
       "      <td>-0.571711</td>\n",
       "      <td>0.240700</td>\n",
       "      <td>-0.738527</td>\n",
       "      <td>-0.489784</td>\n",
       "      <td>-0.852161</td>\n",
       "      <td>0.365754</td>\n",
       "      <td>-0.546913</td>\n",
       "    </tr>\n",
       "    <tr>\n",
       "      <th>163</th>\n",
       "      <td>-0.526514</td>\n",
       "      <td>-0.461363</td>\n",
       "      <td>-0.695862</td>\n",
       "      <td>-1.213499</td>\n",
       "      <td>-0.033542</td>\n",
       "      <td>3.616865</td>\n",
       "      <td>0.546361</td>\n",
       "      <td>-0.316678</td>\n",
       "      <td>0.029323</td>\n",
       "    </tr>\n",
       "    <tr>\n",
       "      <th>164</th>\n",
       "      <td>-0.372315</td>\n",
       "      <td>1.130305</td>\n",
       "      <td>0.008877</td>\n",
       "      <td>1.380030</td>\n",
       "      <td>-0.658404</td>\n",
       "      <td>0.409732</td>\n",
       "      <td>0.286958</td>\n",
       "      <td>-0.661206</td>\n",
       "      <td>-0.637754</td>\n",
       "    </tr>\n",
       "    <tr>\n",
       "      <th>165</th>\n",
       "      <td>0.448417</td>\n",
       "      <td>-0.406478</td>\n",
       "      <td>-0.597272</td>\n",
       "      <td>-0.517472</td>\n",
       "      <td>-0.658924</td>\n",
       "      <td>1.500916</td>\n",
       "      <td>-0.344633</td>\n",
       "      <td>1.140944</td>\n",
       "      <td>-0.637754</td>\n",
       "    </tr>\n",
       "    <tr>\n",
       "      <th>166</th>\n",
       "      <td>1.114951</td>\n",
       "      <td>-0.150348</td>\n",
       "      <td>-0.338015</td>\n",
       "      <td>-0.662477</td>\n",
       "      <td>-0.721358</td>\n",
       "      <td>0.590015</td>\n",
       "      <td>-2.092785</td>\n",
       "      <td>1.624609</td>\n",
       "      <td>-0.629546</td>\n",
       "    </tr>\n",
       "  </tbody>\n",
       "</table>\n",
       "<p>167 rows × 9 columns</p>\n",
       "</div>"
      ],
      "text/plain": [
       "     child_mort   exports    health   imports    income  inflation  \\\n",
       "0      1.291532 -1.138280  0.279088 -0.082455 -0.808245   0.157336   \n",
       "1     -0.538949 -0.479658 -0.097016  0.070837 -0.375369  -0.312347   \n",
       "2     -0.272833 -0.099122 -0.966073 -0.641762 -0.220844   0.789274   \n",
       "3      2.007808  0.775381 -1.448071 -0.165315 -0.585043   1.387054   \n",
       "4     -0.695634  0.160668 -0.286894  0.497568  0.101732  -0.601749   \n",
       "..          ...       ...       ...       ...       ...        ...   \n",
       "162   -0.225578  0.200917 -0.571711  0.240700 -0.738527  -0.489784   \n",
       "163   -0.526514 -0.461363 -0.695862 -1.213499 -0.033542   3.616865   \n",
       "164   -0.372315  1.130305  0.008877  1.380030 -0.658404   0.409732   \n",
       "165    0.448417 -0.406478 -0.597272 -0.517472 -0.658924   1.500916   \n",
       "166    1.114951 -0.150348 -0.338015 -0.662477 -0.721358   0.590015   \n",
       "\n",
       "     life_expec  total_fer      gdpp  \n",
       "0     -1.619092   1.902882 -0.679180  \n",
       "1      0.647866  -0.859973 -0.485623  \n",
       "2      0.670423  -0.038404 -0.465376  \n",
       "3     -1.179234   2.128151 -0.516268  \n",
       "4      0.704258  -0.541946 -0.041817  \n",
       "..          ...        ...       ...  \n",
       "162   -0.852161   0.365754 -0.546913  \n",
       "163    0.546361  -0.316678  0.029323  \n",
       "164    0.286958  -0.661206 -0.637754  \n",
       "165   -0.344633   1.140944 -0.637754  \n",
       "166   -2.092785   1.624609 -0.629546  \n",
       "\n",
       "[167 rows x 9 columns]"
      ]
     },
     "execution_count": 14,
     "metadata": {},
     "output_type": "execute_result"
    }
   ],
   "source": [
    "numerical=pd.DataFrame(numerical, columns=['child_mort','exports', 'health', 'imports', 'income','inflation','life_expec','total_fer','gdpp'])\n",
    "numerical"
   ]
  },
  {
   "cell_type": "markdown",
   "id": "8c5744d7",
   "metadata": {},
   "source": [
    "# PCA"
   ]
  },
  {
   "cell_type": "code",
   "execution_count": 15,
   "id": "b7c44c74",
   "metadata": {},
   "outputs": [],
   "source": [
    "from sklearn.decomposition import PCA\n",
    "pca = PCA(svd_solver='randomized', random_state=42)"
   ]
  },
  {
   "cell_type": "code",
   "execution_count": 16,
   "id": "d7ae65c4",
   "metadata": {},
   "outputs": [
    {
     "data": {
      "text/plain": [
       "PCA(random_state=42, svd_solver='randomized')"
      ]
     },
     "execution_count": 16,
     "metadata": {},
     "output_type": "execute_result"
    }
   ],
   "source": [
    "pca.fit(numerical)"
   ]
  },
  {
   "cell_type": "code",
   "execution_count": 17,
   "id": "36391ae8",
   "metadata": {},
   "outputs": [
    {
     "data": {
      "text/html": [
       "<div>\n",
       "<style scoped>\n",
       "    .dataframe tbody tr th:only-of-type {\n",
       "        vertical-align: middle;\n",
       "    }\n",
       "\n",
       "    .dataframe tbody tr th {\n",
       "        vertical-align: top;\n",
       "    }\n",
       "\n",
       "    .dataframe thead th {\n",
       "        text-align: right;\n",
       "    }\n",
       "</style>\n",
       "<table border=\"1\" class=\"dataframe\">\n",
       "  <thead>\n",
       "    <tr style=\"text-align: right;\">\n",
       "      <th></th>\n",
       "      <th>PC1</th>\n",
       "      <th>PC2</th>\n",
       "      <th>PC3</th>\n",
       "      <th>PC4</th>\n",
       "      <th>PC5</th>\n",
       "      <th>PC6</th>\n",
       "      <th>PC7</th>\n",
       "      <th>PC8</th>\n",
       "      <th>PC9</th>\n",
       "      <th>Feature</th>\n",
       "    </tr>\n",
       "  </thead>\n",
       "  <tbody>\n",
       "    <tr>\n",
       "      <th>0</th>\n",
       "      <td>-0.419519</td>\n",
       "      <td>0.192884</td>\n",
       "      <td>-0.029544</td>\n",
       "      <td>0.370653</td>\n",
       "      <td>-0.168970</td>\n",
       "      <td>0.200628</td>\n",
       "      <td>-0.079489</td>\n",
       "      <td>-0.682743</td>\n",
       "      <td>0.327542</td>\n",
       "      <td>child_mort</td>\n",
       "    </tr>\n",
       "    <tr>\n",
       "      <th>1</th>\n",
       "      <td>0.283897</td>\n",
       "      <td>0.613163</td>\n",
       "      <td>0.144761</td>\n",
       "      <td>0.003091</td>\n",
       "      <td>0.057616</td>\n",
       "      <td>-0.059333</td>\n",
       "      <td>-0.707303</td>\n",
       "      <td>-0.014197</td>\n",
       "      <td>-0.123082</td>\n",
       "      <td>exports</td>\n",
       "    </tr>\n",
       "    <tr>\n",
       "      <th>2</th>\n",
       "      <td>0.150838</td>\n",
       "      <td>-0.243087</td>\n",
       "      <td>-0.596632</td>\n",
       "      <td>0.461897</td>\n",
       "      <td>0.518000</td>\n",
       "      <td>0.007276</td>\n",
       "      <td>-0.249831</td>\n",
       "      <td>0.072497</td>\n",
       "      <td>0.113088</td>\n",
       "      <td>health</td>\n",
       "    </tr>\n",
       "    <tr>\n",
       "      <th>3</th>\n",
       "      <td>0.161482</td>\n",
       "      <td>0.671821</td>\n",
       "      <td>-0.299927</td>\n",
       "      <td>-0.071907</td>\n",
       "      <td>0.255376</td>\n",
       "      <td>-0.030032</td>\n",
       "      <td>0.592190</td>\n",
       "      <td>-0.028946</td>\n",
       "      <td>0.099037</td>\n",
       "      <td>imports</td>\n",
       "    </tr>\n",
       "    <tr>\n",
       "      <th>4</th>\n",
       "      <td>0.398441</td>\n",
       "      <td>0.022536</td>\n",
       "      <td>0.301548</td>\n",
       "      <td>0.392159</td>\n",
       "      <td>-0.247150</td>\n",
       "      <td>0.160347</td>\n",
       "      <td>0.095562</td>\n",
       "      <td>0.352624</td>\n",
       "      <td>0.612982</td>\n",
       "      <td>income</td>\n",
       "    </tr>\n",
       "    <tr>\n",
       "      <th>5</th>\n",
       "      <td>-0.193173</td>\n",
       "      <td>-0.008404</td>\n",
       "      <td>0.642520</td>\n",
       "      <td>0.150442</td>\n",
       "      <td>0.714869</td>\n",
       "      <td>0.066285</td>\n",
       "      <td>0.104633</td>\n",
       "      <td>-0.011538</td>\n",
       "      <td>-0.025236</td>\n",
       "      <td>inflation</td>\n",
       "    </tr>\n",
       "    <tr>\n",
       "      <th>6</th>\n",
       "      <td>0.425839</td>\n",
       "      <td>-0.222707</td>\n",
       "      <td>0.113919</td>\n",
       "      <td>-0.203797</td>\n",
       "      <td>0.108220</td>\n",
       "      <td>-0.601127</td>\n",
       "      <td>0.018486</td>\n",
       "      <td>-0.504664</td>\n",
       "      <td>0.294040</td>\n",
       "      <td>life_expec</td>\n",
       "    </tr>\n",
       "    <tr>\n",
       "      <th>7</th>\n",
       "      <td>-0.403729</td>\n",
       "      <td>0.155233</td>\n",
       "      <td>0.019549</td>\n",
       "      <td>0.378304</td>\n",
       "      <td>-0.135262</td>\n",
       "      <td>-0.750689</td>\n",
       "      <td>0.028826</td>\n",
       "      <td>0.293353</td>\n",
       "      <td>-0.026336</td>\n",
       "      <td>total_fer</td>\n",
       "    </tr>\n",
       "    <tr>\n",
       "      <th>8</th>\n",
       "      <td>0.392645</td>\n",
       "      <td>-0.046022</td>\n",
       "      <td>0.122977</td>\n",
       "      <td>0.531995</td>\n",
       "      <td>-0.180167</td>\n",
       "      <td>0.016779</td>\n",
       "      <td>0.242998</td>\n",
       "      <td>-0.249696</td>\n",
       "      <td>-0.625646</td>\n",
       "      <td>gdpp</td>\n",
       "    </tr>\n",
       "  </tbody>\n",
       "</table>\n",
       "</div>"
      ],
      "text/plain": [
       "        PC1       PC2       PC3       PC4       PC5       PC6       PC7  \\\n",
       "0 -0.419519  0.192884 -0.029544  0.370653 -0.168970  0.200628 -0.079489   \n",
       "1  0.283897  0.613163  0.144761  0.003091  0.057616 -0.059333 -0.707303   \n",
       "2  0.150838 -0.243087 -0.596632  0.461897  0.518000  0.007276 -0.249831   \n",
       "3  0.161482  0.671821 -0.299927 -0.071907  0.255376 -0.030032  0.592190   \n",
       "4  0.398441  0.022536  0.301548  0.392159 -0.247150  0.160347  0.095562   \n",
       "5 -0.193173 -0.008404  0.642520  0.150442  0.714869  0.066285  0.104633   \n",
       "6  0.425839 -0.222707  0.113919 -0.203797  0.108220 -0.601127  0.018486   \n",
       "7 -0.403729  0.155233  0.019549  0.378304 -0.135262 -0.750689  0.028826   \n",
       "8  0.392645 -0.046022  0.122977  0.531995 -0.180167  0.016779  0.242998   \n",
       "\n",
       "        PC8       PC9     Feature  \n",
       "0 -0.682743  0.327542  child_mort  \n",
       "1 -0.014197 -0.123082     exports  \n",
       "2  0.072497  0.113088      health  \n",
       "3 -0.028946  0.099037     imports  \n",
       "4  0.352624  0.612982      income  \n",
       "5 -0.011538 -0.025236   inflation  \n",
       "6 -0.504664  0.294040  life_expec  \n",
       "7  0.293353 -0.026336   total_fer  \n",
       "8 -0.249696 -0.625646        gdpp  "
      ]
     },
     "execution_count": 17,
     "metadata": {},
     "output_type": "execute_result"
    }
   ],
   "source": [
    "#Understanding how the variables are loaded on the principal components. \n",
    "colnames = list(numerical.columns)\n",
    "pca_df = pd.DataFrame({'PC1':pca.components_[0],'PC2':pca.components_[1], 'PC3':pca.components_[2],\n",
    "                       'PC4':pca.components_[3], 'PC5':pca.components_[4],'PC6':pca.components_[5],\n",
    "                       'PC7':pca.components_[6], 'PC8':pca.components_[7],'PC9':pca.components_[8],\n",
    "                       'Feature':colnames})\n",
    "pca_df"
   ]
  },
  {
   "cell_type": "code",
   "execution_count": 18,
   "id": "61a5c19b",
   "metadata": {},
   "outputs": [
    {
     "data": {
      "text/plain": [
       "array([0.4595174 , 0.17181626, 0.13004259, 0.11053162, 0.07340211,\n",
       "       0.02484235, 0.0126043 , 0.00981282, 0.00743056])"
      ]
     },
     "execution_count": 18,
     "metadata": {},
     "output_type": "execute_result"
    }
   ],
   "source": [
    "#Let's check the variance ratios\n",
    "pca.explained_variance_ratio_"
   ]
  },
  {
   "cell_type": "code",
   "execution_count": 19,
   "id": "83b0863a",
   "metadata": {},
   "outputs": [
    {
     "data": {
      "image/png": "[encoded data removed]",
      "text/plain": [
       "<Figure size 432x432 with 1 Axes>"
      ]
     },
     "metadata": {
      "needs_background": "light"
     },
     "output_type": "display_data"
    }
   ],
   "source": [
    "#Making the screeplot - plotting the cumulative variance against the number of components\n",
    "%matplotlib inline\n",
    "fig = plt.figure(figsize = (6,6))\n",
    "plt.plot(np.cumsum(pca.explained_variance_ratio_))\n",
    "plt.xlabel('number of components')\n",
    "plt.ylabel('cumulative explained variance')\n",
    "plt.yticks(np.arange(0.4,1.05,0.05))\n",
    "plt.show()"
   ]
  },
  {
   "cell_type": "markdown",
   "id": "58239400",
   "metadata": {},
   "source": [
    "    Around 95% of the variance is being explained by 5 components"
   ]
  },
  {
   "cell_type": "markdown",
   "id": "e8a4f72a",
   "metadata": {},
   "source": [
    "## Dimensionality reduction using incremental PCA:"
   ]
  },
  {
   "cell_type": "code",
   "execution_count": 20,
   "id": "c44ba84c",
   "metadata": {},
   "outputs": [],
   "source": [
    "from sklearn.decomposition import IncrementalPCA\n",
    "pca_final = IncrementalPCA(n_components=5)"
   ]
  },
  {
   "cell_type": "code",
   "execution_count": 21,
   "id": "383e2d2c",
   "metadata": {},
   "outputs": [
    {
     "data": {
      "text/plain": [
       "(167, 5)"
      ]
     },
     "execution_count": 21,
     "metadata": {},
     "output_type": "execute_result"
    }
   ],
   "source": [
    "df_final = pca_final.fit_transform(numerical)\n",
    "df_final.shape"
   ]
  },
  {
   "cell_type": "markdown",
   "id": "fe825d95",
   "metadata": {},
   "source": [
    "### Correlation after PCA"
   ]
  },
  {
   "cell_type": "code",
   "execution_count": 22,
   "id": "5d64280c",
   "metadata": {},
   "outputs": [
    {
     "data": {
      "text/plain": [
       "<AxesSubplot:>"
      ]
     },
     "execution_count": 22,
     "metadata": {},
     "output_type": "execute_result"
    },
    {
     "data": {
      "image/png": "[encoded data removed]",
      "text/plain": [
       "<Figure size 576x432 with 2 Axes>"
      ]
     },
     "metadata": {
      "needs_background": "light"
     },
     "output_type": "display_data"
    }
   ],
   "source": [
    "corrmat = np.corrcoef(df_final.transpose())\n",
    "\n",
    "plt.figure(figsize = (8,6))\n",
    "sns.heatmap(corrmat,annot = True)"
   ]
  },
  {
   "cell_type": "markdown",
   "id": "3149c555",
   "metadata": {},
   "source": [
    "    Here, we can see that the correlations are almost equal to zero. "
   ]
  },
  {
   "cell_type": "code",
   "execution_count": 23,
   "id": "dba9b1d8",
   "metadata": {},
   "outputs": [
    {
     "data": {
      "text/html": [
       "<div>\n",
       "<style scoped>\n",
       "    .dataframe tbody tr th:only-of-type {\n",
       "        vertical-align: middle;\n",
       "    }\n",
       "\n",
       "    .dataframe tbody tr th {\n",
       "        vertical-align: top;\n",
       "    }\n",
       "\n",
       "    .dataframe thead th {\n",
       "        text-align: right;\n",
       "    }\n",
       "</style>\n",
       "<table border=\"1\" class=\"dataframe\">\n",
       "  <thead>\n",
       "    <tr style=\"text-align: right;\">\n",
       "      <th></th>\n",
       "      <th>PC1</th>\n",
       "      <th>PC2</th>\n",
       "      <th>PC3</th>\n",
       "      <th>PC4</th>\n",
       "      <th>PC5</th>\n",
       "    </tr>\n",
       "  </thead>\n",
       "  <tbody>\n",
       "    <tr>\n",
       "      <th>0</th>\n",
       "      <td>-2.913000</td>\n",
       "      <td>0.091969</td>\n",
       "      <td>-0.721242</td>\n",
       "      <td>1.001838</td>\n",
       "      <td>-0.146765</td>\n",
       "    </tr>\n",
       "    <tr>\n",
       "      <th>1</th>\n",
       "      <td>0.429870</td>\n",
       "      <td>-0.589373</td>\n",
       "      <td>-0.328611</td>\n",
       "      <td>-1.165014</td>\n",
       "      <td>0.153205</td>\n",
       "    </tr>\n",
       "    <tr>\n",
       "      <th>2</th>\n",
       "      <td>-0.285289</td>\n",
       "      <td>-0.452139</td>\n",
       "      <td>1.232051</td>\n",
       "      <td>-0.857767</td>\n",
       "      <td>0.191227</td>\n",
       "    </tr>\n",
       "    <tr>\n",
       "      <th>3</th>\n",
       "      <td>-2.932714</td>\n",
       "      <td>1.698771</td>\n",
       "      <td>1.525076</td>\n",
       "      <td>0.855595</td>\n",
       "      <td>-0.214778</td>\n",
       "    </tr>\n",
       "    <tr>\n",
       "      <th>4</th>\n",
       "      <td>1.033371</td>\n",
       "      <td>0.133853</td>\n",
       "      <td>-0.216699</td>\n",
       "      <td>-0.846638</td>\n",
       "      <td>-0.193186</td>\n",
       "    </tr>\n",
       "  </tbody>\n",
       "</table>\n",
       "</div>"
      ],
      "text/plain": [
       "        PC1       PC2       PC3       PC4       PC5\n",
       "0 -2.913000  0.091969 -0.721242  1.001838 -0.146765\n",
       "1  0.429870 -0.589373 -0.328611 -1.165014  0.153205\n",
       "2 -0.285289 -0.452139  1.232051 -0.857767  0.191227\n",
       "3 -2.932714  1.698771  1.525076  0.855595 -0.214778\n",
       "4  1.033371  0.133853 -0.216699 -0.846638 -0.193186"
      ]
     },
     "execution_count": 23,
     "metadata": {},
     "output_type": "execute_result"
    }
   ],
   "source": [
    "pc = np.transpose(df_final)\n",
    "df_final = pd.DataFrame({'PC1':pc[0],'PC2':pc[1], 'PC3':pc[2], 'PC4':pc[3],'PC5':pc[4]})\n",
    "df_final.head()"
   ]
  },
  {
   "cell_type": "markdown",
   "id": "02c5ad40",
   "metadata": {},
   "source": [
    "## Hopkins Statistics"
   ]
  },
  {
   "cell_type": "code",
   "execution_count": 24,
   "id": "691e0061",
   "metadata": {},
   "outputs": [],
   "source": [
    "from sklearn.neighbors import NearestNeighbors\n",
    "from random import sample\n",
    "from numpy.random import uniform\n",
    "import numpy as np\n",
    "from math import isnan\n",
    "\n",
    "def hopkins(X):\n",
    "    d = X.shape[1]\n",
    "    #d = len(vars) # columns\n",
    "    n = len(X) # rows\n",
    "    m = int(0.1 * n) \n",
    "    nbrs = NearestNeighbors(n_neighbors=1).fit(X.values)\n",
    " \n",
    "    rand_X = sample(range(0, n, 1), m)\n",
    " \n",
    "    ujd = []\n",
    "    wjd = []\n",
    "    for j in range(0, m):\n",
    "        u_dist, _ = nbrs.kneighbors(uniform(np.amin(X,axis=0),np.amax(X,axis=0),d).reshape(1, -1), 2, return_distance=True)\n",
    "        ujd.append(u_dist[0][1])\n",
    "        w_dist, _ = nbrs.kneighbors(X.iloc[rand_X[j]].values.reshape(1, -1), 2, return_distance=True)\n",
    "        wjd.append(w_dist[0][1])\n",
    " \n",
    "    H = sum(ujd) / (sum(ujd) + sum(wjd))\n",
    "    if isnan(H):\n",
    "        print(ujd, wjd)\n",
    "        H = 0\n",
    " \n",
    "    return H"
   ]
  },
  {
   "cell_type": "code",
   "execution_count": 25,
   "id": "0dd5b771",
   "metadata": {},
   "outputs": [
    {
     "data": {
      "text/plain": [
       "0.8398241275457852"
      ]
     },
     "execution_count": 25,
     "metadata": {},
     "output_type": "execute_result"
    }
   ],
   "source": [
    "hopkins(df_final)"
   ]
  },
  {
   "cell_type": "markdown",
   "id": "7d305f39",
   "metadata": {},
   "source": [
    "    Since the value is > 0.7 the given dataset has a good tendency to form clusters."
   ]
  },
  {
   "cell_type": "code",
   "execution_count": 26,
   "id": "4f78eee7",
   "metadata": {},
   "outputs": [],
   "source": [
    "df_km = df_final"
   ]
  },
  {
   "cell_type": "markdown",
   "id": "8d68cb09",
   "metadata": {},
   "source": [
    "# K-Means Clustering"
   ]
  },
  {
   "cell_type": "markdown",
   "id": "d485a504",
   "metadata": {},
   "source": [
    "## K-means with some K"
   ]
  },
  {
   "cell_type": "markdown",
   "id": "df4de8b2",
   "metadata": {},
   "source": [
    "### Sum of Squared Distance"
   ]
  },
  {
   "cell_type": "code",
   "execution_count": 27,
   "id": "266ce854",
   "metadata": {},
   "outputs": [
    {
     "name": "stderr",
     "output_type": "stream",
     "text": [
      "C:\\Users\\user\\anaconda3\\lib\\site-packages\\sklearn\\cluster\\_kmeans.py:881: UserWarning: KMeans is known to have a memory leak on Windows with MKL, when there are less chunks than available threads. You can avoid it by setting the environment variable OMP_NUM_THREADS=1.\n",
      "  warnings.warn(\n"
     ]
    },
    {
     "data": {
      "text/plain": [
       "[<matplotlib.lines.Line2D at 0x2e71fb81a30>]"
      ]
     },
     "execution_count": 27,
     "metadata": {},
     "output_type": "execute_result"
    },
    {
     "data": {
      "image/png": "[encoded data removed]",
      "text/plain": [
       "<Figure size 432x288 with 1 Axes>"
      ]
     },
     "metadata": {
      "needs_background": "light"
     },
     "output_type": "display_data"
    }
   ],
   "source": [
    "from sklearn.cluster import KMeans\n",
    "wcss = []\n",
    "for num_clusters in list(range(1,21)):\n",
    "    model_clus = KMeans(n_clusters = num_clusters, max_iter=50)\n",
    "    model_clus.fit(df_km)\n",
    "    wcss.append(model_clus.inertia_)\n",
    "\n",
    "plt.plot(wcss)"
   ]
  },
  {
   "cell_type": "markdown",
   "id": "18836937",
   "metadata": {},
   "source": [
    "### Silhouette Analysis"
   ]
  },
  {
   "cell_type": "code",
   "execution_count": 28,
   "id": "f4d27b29",
   "metadata": {},
   "outputs": [],
   "source": [
    "from sklearn.metrics import silhouette_score\n",
    "sse_ = []\n",
    "for k in range(2, 15):\n",
    "    kmeans = KMeans(n_clusters=k).fit(df_km)\n",
    "    sse_.append([k, silhouette_score(df_km, kmeans.labels_)])"
   ]
  },
  {
   "cell_type": "code",
   "execution_count": 29,
   "id": "5a1bf43d",
   "metadata": {},
   "outputs": [
    {
     "data": {
      "image/png": "[encoded data removed]",
      "text/plain": [
       "<Figure size 432x288 with 1 Axes>"
      ]
     },
     "metadata": {
      "needs_background": "light"
     },
     "output_type": "display_data"
    }
   ],
   "source": [
    "plt.plot(pd.DataFrame(sse_)[0], pd.DataFrame(sse_)[1]);"
   ]
  },
  {
   "cell_type": "markdown",
   "id": "7e60f493",
   "metadata": {},
   "source": [
    "    By looking silhouette analysis, we see the highest peak is at k =5 and in sum of squared distances graph ,\n",
    "    we see that the elbow is in the range of 3 to 5 , so let us take k as 5."
   ]
  },
  {
   "cell_type": "markdown",
   "id": "b2a6838a",
   "metadata": {},
   "source": [
    "## Kmeans with K= 5"
   ]
  },
  {
   "cell_type": "code",
   "execution_count": 30,
   "id": "605228e2",
   "metadata": {},
   "outputs": [
    {
     "data": {
      "text/plain": [
       "KMeans(max_iter=50, n_clusters=5, random_state=50)"
      ]
     },
     "execution_count": 30,
     "metadata": {},
     "output_type": "execute_result"
    }
   ],
   "source": [
    "model_clust = KMeans(n_clusters = 5, max_iter=50,random_state = 50)\n",
    "model_clust.fit(df_km)"
   ]
  },
  {
   "cell_type": "code",
   "execution_count": 31,
   "id": "001d3a26",
   "metadata": {},
   "outputs": [
    {
     "data": {
      "text/html": [
       "<div>\n",
       "<style scoped>\n",
       "    .dataframe tbody tr th:only-of-type {\n",
       "        vertical-align: middle;\n",
       "    }\n",
       "\n",
       "    .dataframe tbody tr th {\n",
       "        vertical-align: top;\n",
       "    }\n",
       "\n",
       "    .dataframe thead th {\n",
       "        text-align: right;\n",
       "    }\n",
       "</style>\n",
       "<table border=\"1\" class=\"dataframe\">\n",
       "  <thead>\n",
       "    <tr style=\"text-align: right;\">\n",
       "      <th></th>\n",
       "      <th>PC1</th>\n",
       "      <th>PC2</th>\n",
       "      <th>PC3</th>\n",
       "      <th>PC4</th>\n",
       "      <th>PC5</th>\n",
       "      <th>ClusterID</th>\n",
       "    </tr>\n",
       "  </thead>\n",
       "  <tbody>\n",
       "    <tr>\n",
       "      <th>0</th>\n",
       "      <td>-2.913000</td>\n",
       "      <td>0.091969</td>\n",
       "      <td>-0.721242</td>\n",
       "      <td>1.001838</td>\n",
       "      <td>-0.146765</td>\n",
       "      <td>1</td>\n",
       "    </tr>\n",
       "    <tr>\n",
       "      <th>1</th>\n",
       "      <td>0.429870</td>\n",
       "      <td>-0.589373</td>\n",
       "      <td>-0.328611</td>\n",
       "      <td>-1.165014</td>\n",
       "      <td>0.153205</td>\n",
       "      <td>2</td>\n",
       "    </tr>\n",
       "    <tr>\n",
       "      <th>2</th>\n",
       "      <td>-0.285289</td>\n",
       "      <td>-0.452139</td>\n",
       "      <td>1.232051</td>\n",
       "      <td>-0.857767</td>\n",
       "      <td>0.191227</td>\n",
       "      <td>2</td>\n",
       "    </tr>\n",
       "    <tr>\n",
       "      <th>3</th>\n",
       "      <td>-2.932714</td>\n",
       "      <td>1.698771</td>\n",
       "      <td>1.525076</td>\n",
       "      <td>0.855595</td>\n",
       "      <td>-0.214778</td>\n",
       "      <td>1</td>\n",
       "    </tr>\n",
       "    <tr>\n",
       "      <th>4</th>\n",
       "      <td>1.033371</td>\n",
       "      <td>0.133853</td>\n",
       "      <td>-0.216699</td>\n",
       "      <td>-0.846638</td>\n",
       "      <td>-0.193186</td>\n",
       "      <td>2</td>\n",
       "    </tr>\n",
       "  </tbody>\n",
       "</table>\n",
       "</div>"
      ],
      "text/plain": [
       "        PC1       PC2       PC3       PC4       PC5  ClusterID\n",
       "0 -2.913000  0.091969 -0.721242  1.001838 -0.146765          1\n",
       "1  0.429870 -0.589373 -0.328611 -1.165014  0.153205          2\n",
       "2 -0.285289 -0.452139  1.232051 -0.857767  0.191227          2\n",
       "3 -2.932714  1.698771  1.525076  0.855595 -0.214778          1\n",
       "4  1.033371  0.133853 -0.216699 -0.846638 -0.193186          2"
      ]
     },
     "execution_count": 31,
     "metadata": {},
     "output_type": "execute_result"
    }
   ],
   "source": [
    "df_km1 = df_final\n",
    "df_km1.index = pd.RangeIndex(len(df_km1.index))\n",
    "countries_detail_km = pd.concat([df_km1, pd.Series(model_clust.labels_)], axis=1)\n",
    "countries_detail_km.columns = ['PC1', 'PC2','PC3','PC4','PC5','ClusterID']\n",
    "countries_detail_km.head()"
   ]
  },
  {
   "cell_type": "code",
   "execution_count": 32,
   "id": "8a2ce30d",
   "metadata": {},
   "outputs": [
    {
     "data": {
      "text/plain": [
       "2    86\n",
       "1    45\n",
       "0    32\n",
       "3     3\n",
       "4     1\n",
       "Name: ClusterID, dtype: int64"
      ]
     },
     "execution_count": 32,
     "metadata": {},
     "output_type": "execute_result"
    }
   ],
   "source": [
    "countries_detail_km['ClusterID'].value_counts()"
   ]
  },
  {
   "cell_type": "markdown",
   "id": "970831c8",
   "metadata": {},
   "source": [
    "## Scatterplot b/w PC components and cluster ID"
   ]
  },
  {
   "cell_type": "code",
   "execution_count": 33,
   "id": "67878ca1",
   "metadata": {},
   "outputs": [
    {
     "data": {
      "text/plain": [
       "<AxesSubplot:xlabel='PC1', ylabel='PC2'>"
      ]
     },
     "execution_count": 33,
     "metadata": {},
     "output_type": "execute_result"
    },
    {
     "data": {
      "image/png": "[encoded data removed]",
      "text/plain": [
       "<Figure size 432x288 with 1 Axes>"
      ]
     },
     "metadata": {
      "needs_background": "light"
     },
     "output_type": "display_data"
    }
   ],
   "source": [
    "# scatter plot for PC1, PC2 and clusterId\n",
    "sns.scatterplot(x='PC1',y='PC2',hue='ClusterID',legend='full',data=countries_detail_km, palette=['green','orange','brown','red','yellow'])"
   ]
  },
  {
   "cell_type": "code",
   "execution_count": 34,
   "id": "6ab89956",
   "metadata": {},
   "outputs": [
    {
     "data": {
      "text/plain": [
       "<AxesSubplot:xlabel='PC3', ylabel='PC4'>"
      ]
     },
     "execution_count": 34,
     "metadata": {},
     "output_type": "execute_result"
    },
    {
     "data": {
      "image/png": "[encoded data removed]",
      "text/plain": [
       "<Figure size 432x288 with 1 Axes>"
      ]
     },
     "metadata": {
      "needs_background": "light"
     },
     "output_type": "display_data"
    }
   ],
   "source": [
    "# scatter plot for PC3, PC4 and clusterId\n",
    "sns.scatterplot(x='PC3',y='PC4',hue='ClusterID',legend='full',data=countries_detail_km,palette=['green','orange','brown','red','yellow'])"
   ]
  },
  {
   "cell_type": "code",
   "execution_count": 35,
   "id": "bdb55b35",
   "metadata": {},
   "outputs": [
    {
     "data": {
      "text/html": [
       "<div>\n",
       "<style scoped>\n",
       "    .dataframe tbody tr th:only-of-type {\n",
       "        vertical-align: middle;\n",
       "    }\n",
       "\n",
       "    .dataframe tbody tr th {\n",
       "        vertical-align: top;\n",
       "    }\n",
       "\n",
       "    .dataframe thead th {\n",
       "        text-align: right;\n",
       "    }\n",
       "</style>\n",
       "<table border=\"1\" class=\"dataframe\">\n",
       "  <thead>\n",
       "    <tr style=\"text-align: right;\">\n",
       "      <th></th>\n",
       "      <th>index</th>\n",
       "      <th>country</th>\n",
       "      <th>child_mort</th>\n",
       "      <th>exports</th>\n",
       "      <th>health</th>\n",
       "      <th>imports</th>\n",
       "      <th>income</th>\n",
       "      <th>inflation</th>\n",
       "      <th>life_expec</th>\n",
       "      <th>total_fer</th>\n",
       "      <th>gdpp</th>\n",
       "      <th>PC1</th>\n",
       "      <th>PC2</th>\n",
       "      <th>PC3</th>\n",
       "      <th>PC4</th>\n",
       "      <th>PC5</th>\n",
       "      <th>ClusterID</th>\n",
       "    </tr>\n",
       "  </thead>\n",
       "  <tbody>\n",
       "    <tr>\n",
       "      <th>0</th>\n",
       "      <td>0</td>\n",
       "      <td>Afghanistan</td>\n",
       "      <td>90.2</td>\n",
       "      <td>10.0</td>\n",
       "      <td>7.58</td>\n",
       "      <td>44.9</td>\n",
       "      <td>1610</td>\n",
       "      <td>9.44</td>\n",
       "      <td>56.2</td>\n",
       "      <td>5.82</td>\n",
       "      <td>553</td>\n",
       "      <td>-2.913000</td>\n",
       "      <td>0.091969</td>\n",
       "      <td>-0.721242</td>\n",
       "      <td>1.001838</td>\n",
       "      <td>-0.146765</td>\n",
       "      <td>1</td>\n",
       "    </tr>\n",
       "    <tr>\n",
       "      <th>1</th>\n",
       "      <td>1</td>\n",
       "      <td>Albania</td>\n",
       "      <td>16.6</td>\n",
       "      <td>28.0</td>\n",
       "      <td>6.55</td>\n",
       "      <td>48.6</td>\n",
       "      <td>9930</td>\n",
       "      <td>4.49</td>\n",
       "      <td>76.3</td>\n",
       "      <td>1.65</td>\n",
       "      <td>4090</td>\n",
       "      <td>0.429870</td>\n",
       "      <td>-0.589373</td>\n",
       "      <td>-0.328611</td>\n",
       "      <td>-1.165014</td>\n",
       "      <td>0.153205</td>\n",
       "      <td>2</td>\n",
       "    </tr>\n",
       "    <tr>\n",
       "      <th>2</th>\n",
       "      <td>2</td>\n",
       "      <td>Algeria</td>\n",
       "      <td>27.3</td>\n",
       "      <td>38.4</td>\n",
       "      <td>4.17</td>\n",
       "      <td>31.4</td>\n",
       "      <td>12900</td>\n",
       "      <td>16.10</td>\n",
       "      <td>76.5</td>\n",
       "      <td>2.89</td>\n",
       "      <td>4460</td>\n",
       "      <td>-0.285289</td>\n",
       "      <td>-0.452139</td>\n",
       "      <td>1.232051</td>\n",
       "      <td>-0.857767</td>\n",
       "      <td>0.191227</td>\n",
       "      <td>2</td>\n",
       "    </tr>\n",
       "    <tr>\n",
       "      <th>3</th>\n",
       "      <td>3</td>\n",
       "      <td>Angola</td>\n",
       "      <td>119.0</td>\n",
       "      <td>62.3</td>\n",
       "      <td>2.85</td>\n",
       "      <td>42.9</td>\n",
       "      <td>5900</td>\n",
       "      <td>22.40</td>\n",
       "      <td>60.1</td>\n",
       "      <td>6.16</td>\n",
       "      <td>3530</td>\n",
       "      <td>-2.932714</td>\n",
       "      <td>1.698771</td>\n",
       "      <td>1.525076</td>\n",
       "      <td>0.855595</td>\n",
       "      <td>-0.214778</td>\n",
       "      <td>1</td>\n",
       "    </tr>\n",
       "    <tr>\n",
       "      <th>4</th>\n",
       "      <td>4</td>\n",
       "      <td>Antigua and Barbuda</td>\n",
       "      <td>10.3</td>\n",
       "      <td>45.5</td>\n",
       "      <td>6.03</td>\n",
       "      <td>58.9</td>\n",
       "      <td>19100</td>\n",
       "      <td>1.44</td>\n",
       "      <td>76.8</td>\n",
       "      <td>2.13</td>\n",
       "      <td>12200</td>\n",
       "      <td>1.033371</td>\n",
       "      <td>0.133853</td>\n",
       "      <td>-0.216699</td>\n",
       "      <td>-0.846638</td>\n",
       "      <td>-0.193186</td>\n",
       "      <td>2</td>\n",
       "    </tr>\n",
       "  </tbody>\n",
       "</table>\n",
       "</div>"
      ],
      "text/plain": [
       "   index              country  child_mort  exports  health  imports  income  \\\n",
       "0      0          Afghanistan        90.2     10.0    7.58     44.9    1610   \n",
       "1      1              Albania        16.6     28.0    6.55     48.6    9930   \n",
       "2      2              Algeria        27.3     38.4    4.17     31.4   12900   \n",
       "3      3               Angola       119.0     62.3    2.85     42.9    5900   \n",
       "4      4  Antigua and Barbuda        10.3     45.5    6.03     58.9   19100   \n",
       "\n",
       "   inflation  life_expec  total_fer   gdpp       PC1       PC2       PC3  \\\n",
       "0       9.44        56.2       5.82    553 -2.913000  0.091969 -0.721242   \n",
       "1       4.49        76.3       1.65   4090  0.429870 -0.589373 -0.328611   \n",
       "2      16.10        76.5       2.89   4460 -0.285289 -0.452139  1.232051   \n",
       "3      22.40        60.1       6.16   3530 -2.932714  1.698771  1.525076   \n",
       "4       1.44        76.8       2.13  12200  1.033371  0.133853 -0.216699   \n",
       "\n",
       "        PC4       PC5  ClusterID  \n",
       "0  1.001838 -0.146765          1  \n",
       "1 -1.165014  0.153205          2  \n",
       "2 -0.857767  0.191227          2  \n",
       "3  0.855595 -0.214778          1  \n",
       "4 -0.846638 -0.193186          2  "
      ]
     },
     "execution_count": 35,
     "metadata": {},
     "output_type": "execute_result"
    }
   ],
   "source": [
    "# merge b/w km df and actually data\n",
    "country_merge_km=pd.merge(df.reset_index(),countries_detail_km,left_index=True,right_index=True )\n",
    "country_merge_km.head()"
   ]
  },
  {
   "cell_type": "markdown",
   "id": "7740a61d",
   "metadata": {},
   "source": [
    "### Scatter plot between actual variables and cluster id"
   ]
  },
  {
   "cell_type": "code",
   "execution_count": 36,
   "id": "5c19d7bb",
   "metadata": {},
   "outputs": [
    {
     "data": {
      "text/plain": [
       "<AxesSubplot:xlabel='child_mort', ylabel='health'>"
      ]
     },
     "execution_count": 36,
     "metadata": {},
     "output_type": "execute_result"
    },
    {
     "data": {
      "image/png": "[encoded data removed]",
      "text/plain": [
       "<Figure size 432x288 with 1 Axes>"
      ]
     },
     "metadata": {
      "needs_background": "light"
     },
     "output_type": "display_data"
    }
   ],
   "source": [
    "sns.scatterplot(x='child_mort',y='health',hue='ClusterID',legend='full',data=country_merge_km,palette=['green','orange','brown','red','yellow'])"
   ]
  },
  {
   "cell_type": "code",
   "execution_count": 37,
   "id": "39fd5901",
   "metadata": {},
   "outputs": [
    {
     "data": {
      "text/plain": [
       "<AxesSubplot:xlabel='income', ylabel='gdpp'>"
      ]
     },
     "execution_count": 37,
     "metadata": {},
     "output_type": "execute_result"
    },
    {
     "data": {
      "image/png": "[encoded data removed]",
      "text/plain": [
       "<Figure size 432x288 with 1 Axes>"
      ]
     },
     "metadata": {
      "needs_background": "light"
     },
     "output_type": "display_data"
    }
   ],
   "source": [
    "# scatterplot between income, gdpp and cluster ID\n",
    "sns.scatterplot(x='income',y='gdpp',hue='ClusterID',legend='full',data=country_merge_km,palette=['green','orange','brown','red','yellow'])"
   ]
  },
  {
   "cell_type": "code",
   "execution_count": 38,
   "id": "469152bd",
   "metadata": {},
   "outputs": [
    {
     "data": {
      "text/plain": [
       "<AxesSubplot:xlabel='health', ylabel='income'>"
      ]
     },
     "execution_count": 38,
     "metadata": {},
     "output_type": "execute_result"
    },
    {
     "data": {
      "image/png": "[encoded data removed]",
      "text/plain": [
       "<Figure size 432x288 with 1 Axes>"
      ]
     },
     "metadata": {
      "needs_background": "light"
     },
     "output_type": "display_data"
    }
   ],
   "source": [
    "# scatterplot for health, income for different cluster id\n",
    "sns.scatterplot(x='health',y='income',hue='ClusterID',legend='full',data=country_merge_km,palette=['green','orange','brown','red','yellow'])"
   ]
  },
  {
   "cell_type": "code",
   "execution_count": 39,
   "id": "5f75c935",
   "metadata": {},
   "outputs": [
    {
     "data": {
      "text/plain": [
       "<AxesSubplot:xlabel='child_mort', ylabel='inflation'>"
      ]
     },
     "execution_count": 39,
     "metadata": {},
     "output_type": "execute_result"
    },
    {
     "data": {
      "image/png": "[encoded data removed]",
      "text/plain": [
       "<Figure size 432x288 with 1 Axes>"
      ]
     },
     "metadata": {
      "needs_background": "light"
     },
     "output_type": "display_data"
    }
   ],
   "source": [
    "# scatterplot for infaltion, child mort for different cluster id\n",
    "sns.scatterplot(y='inflation',x='child_mort',hue='ClusterID',legend='full',data=country_merge_km,palette=['green','orange','brown','red','yellow'])"
   ]
  },
  {
   "cell_type": "code",
   "execution_count": 40,
   "id": "311ac028",
   "metadata": {},
   "outputs": [
    {
     "data": {
      "text/html": [
       "<div>\n",
       "<style scoped>\n",
       "    .dataframe tbody tr th:only-of-type {\n",
       "        vertical-align: middle;\n",
       "    }\n",
       "\n",
       "    .dataframe tbody tr th {\n",
       "        vertical-align: top;\n",
       "    }\n",
       "\n",
       "    .dataframe thead th {\n",
       "        text-align: right;\n",
       "    }\n",
       "</style>\n",
       "<table border=\"1\" class=\"dataframe\">\n",
       "  <thead>\n",
       "    <tr style=\"text-align: right;\">\n",
       "      <th></th>\n",
       "      <th>index</th>\n",
       "      <th>country</th>\n",
       "      <th>child_mort</th>\n",
       "      <th>exports</th>\n",
       "      <th>health</th>\n",
       "      <th>imports</th>\n",
       "      <th>income</th>\n",
       "      <th>inflation</th>\n",
       "      <th>life_expec</th>\n",
       "      <th>total_fer</th>\n",
       "      <th>gdpp</th>\n",
       "      <th>ClusterID</th>\n",
       "    </tr>\n",
       "  </thead>\n",
       "  <tbody>\n",
       "    <tr>\n",
       "      <th>0</th>\n",
       "      <td>0</td>\n",
       "      <td>Afghanistan</td>\n",
       "      <td>90.2</td>\n",
       "      <td>10.0</td>\n",
       "      <td>7.58</td>\n",
       "      <td>44.9</td>\n",
       "      <td>1610</td>\n",
       "      <td>9.44</td>\n",
       "      <td>56.2</td>\n",
       "      <td>5.82</td>\n",
       "      <td>553</td>\n",
       "      <td>1</td>\n",
       "    </tr>\n",
       "    <tr>\n",
       "      <th>1</th>\n",
       "      <td>1</td>\n",
       "      <td>Albania</td>\n",
       "      <td>16.6</td>\n",
       "      <td>28.0</td>\n",
       "      <td>6.55</td>\n",
       "      <td>48.6</td>\n",
       "      <td>9930</td>\n",
       "      <td>4.49</td>\n",
       "      <td>76.3</td>\n",
       "      <td>1.65</td>\n",
       "      <td>4090</td>\n",
       "      <td>2</td>\n",
       "    </tr>\n",
       "    <tr>\n",
       "      <th>2</th>\n",
       "      <td>2</td>\n",
       "      <td>Algeria</td>\n",
       "      <td>27.3</td>\n",
       "      <td>38.4</td>\n",
       "      <td>4.17</td>\n",
       "      <td>31.4</td>\n",
       "      <td>12900</td>\n",
       "      <td>16.10</td>\n",
       "      <td>76.5</td>\n",
       "      <td>2.89</td>\n",
       "      <td>4460</td>\n",
       "      <td>2</td>\n",
       "    </tr>\n",
       "    <tr>\n",
       "      <th>3</th>\n",
       "      <td>3</td>\n",
       "      <td>Angola</td>\n",
       "      <td>119.0</td>\n",
       "      <td>62.3</td>\n",
       "      <td>2.85</td>\n",
       "      <td>42.9</td>\n",
       "      <td>5900</td>\n",
       "      <td>22.40</td>\n",
       "      <td>60.1</td>\n",
       "      <td>6.16</td>\n",
       "      <td>3530</td>\n",
       "      <td>1</td>\n",
       "    </tr>\n",
       "    <tr>\n",
       "      <th>4</th>\n",
       "      <td>4</td>\n",
       "      <td>Antigua and Barbuda</td>\n",
       "      <td>10.3</td>\n",
       "      <td>45.5</td>\n",
       "      <td>6.03</td>\n",
       "      <td>58.9</td>\n",
       "      <td>19100</td>\n",
       "      <td>1.44</td>\n",
       "      <td>76.8</td>\n",
       "      <td>2.13</td>\n",
       "      <td>12200</td>\n",
       "      <td>2</td>\n",
       "    </tr>\n",
       "  </tbody>\n",
       "</table>\n",
       "</div>"
      ],
      "text/plain": [
       "   index              country  child_mort  exports  health  imports  income  \\\n",
       "0      0          Afghanistan        90.2     10.0    7.58     44.9    1610   \n",
       "1      1              Albania        16.6     28.0    6.55     48.6    9930   \n",
       "2      2              Algeria        27.3     38.4    4.17     31.4   12900   \n",
       "3      3               Angola       119.0     62.3    2.85     42.9    5900   \n",
       "4      4  Antigua and Barbuda        10.3     45.5    6.03     58.9   19100   \n",
       "\n",
       "   inflation  life_expec  total_fer   gdpp  ClusterID  \n",
       "0       9.44        56.2       5.82    553          1  \n",
       "1       4.49        76.3       1.65   4090          2  \n",
       "2      16.10        76.5       2.89   4460          2  \n",
       "3      22.40        60.1       6.16   3530          1  \n",
       "4       1.44        76.8       2.13  12200          2  "
      ]
     },
     "execution_count": 40,
     "metadata": {},
     "output_type": "execute_result"
    }
   ],
   "source": [
    "country_final=country_merge_km.drop(['PC1','PC2','PC3','PC4','PC5'],axis=1)\n",
    "country_final.head()"
   ]
  },
  {
   "cell_type": "code",
   "execution_count": 42,
   "id": "032cd4d4",
   "metadata": {},
   "outputs": [
    {
     "data": {
      "text/html": [
       "<div>\n",
       "<style scoped>\n",
       "    .dataframe tbody tr th:only-of-type {\n",
       "        vertical-align: middle;\n",
       "    }\n",
       "\n",
       "    .dataframe tbody tr th {\n",
       "        vertical-align: top;\n",
       "    }\n",
       "\n",
       "    .dataframe thead th {\n",
       "        text-align: right;\n",
       "    }\n",
       "</style>\n",
       "<table border=\"1\" class=\"dataframe\">\n",
       "  <thead>\n",
       "    <tr style=\"text-align: right;\">\n",
       "      <th></th>\n",
       "      <th>country</th>\n",
       "      <th>child_mort</th>\n",
       "      <th>exports</th>\n",
       "      <th>health</th>\n",
       "      <th>imports</th>\n",
       "      <th>income</th>\n",
       "      <th>inflation</th>\n",
       "      <th>life_expec</th>\n",
       "      <th>total_fer</th>\n",
       "      <th>gdpp</th>\n",
       "      <th>ClusterID</th>\n",
       "    </tr>\n",
       "  </thead>\n",
       "  <tbody>\n",
       "    <tr>\n",
       "      <th>0</th>\n",
       "      <td>Afghanistan</td>\n",
       "      <td>90.2</td>\n",
       "      <td>10.0</td>\n",
       "      <td>7.58</td>\n",
       "      <td>44.9</td>\n",
       "      <td>1610</td>\n",
       "      <td>9.44</td>\n",
       "      <td>56.2</td>\n",
       "      <td>5.82</td>\n",
       "      <td>553</td>\n",
       "      <td>1</td>\n",
       "    </tr>\n",
       "    <tr>\n",
       "      <th>1</th>\n",
       "      <td>Albania</td>\n",
       "      <td>16.6</td>\n",
       "      <td>28.0</td>\n",
       "      <td>6.55</td>\n",
       "      <td>48.6</td>\n",
       "      <td>9930</td>\n",
       "      <td>4.49</td>\n",
       "      <td>76.3</td>\n",
       "      <td>1.65</td>\n",
       "      <td>4090</td>\n",
       "      <td>2</td>\n",
       "    </tr>\n",
       "    <tr>\n",
       "      <th>2</th>\n",
       "      <td>Algeria</td>\n",
       "      <td>27.3</td>\n",
       "      <td>38.4</td>\n",
       "      <td>4.17</td>\n",
       "      <td>31.4</td>\n",
       "      <td>12900</td>\n",
       "      <td>16.10</td>\n",
       "      <td>76.5</td>\n",
       "      <td>2.89</td>\n",
       "      <td>4460</td>\n",
       "      <td>2</td>\n",
       "    </tr>\n",
       "    <tr>\n",
       "      <th>3</th>\n",
       "      <td>Angola</td>\n",
       "      <td>119.0</td>\n",
       "      <td>62.3</td>\n",
       "      <td>2.85</td>\n",
       "      <td>42.9</td>\n",
       "      <td>5900</td>\n",
       "      <td>22.40</td>\n",
       "      <td>60.1</td>\n",
       "      <td>6.16</td>\n",
       "      <td>3530</td>\n",
       "      <td>1</td>\n",
       "    </tr>\n",
       "    <tr>\n",
       "      <th>4</th>\n",
       "      <td>Antigua and Barbuda</td>\n",
       "      <td>10.3</td>\n",
       "      <td>45.5</td>\n",
       "      <td>6.03</td>\n",
       "      <td>58.9</td>\n",
       "      <td>19100</td>\n",
       "      <td>1.44</td>\n",
       "      <td>76.8</td>\n",
       "      <td>2.13</td>\n",
       "      <td>12200</td>\n",
       "      <td>2</td>\n",
       "    </tr>\n",
       "    <tr>\n",
       "      <th>...</th>\n",
       "      <td>...</td>\n",
       "      <td>...</td>\n",
       "      <td>...</td>\n",
       "      <td>...</td>\n",
       "      <td>...</td>\n",
       "      <td>...</td>\n",
       "      <td>...</td>\n",
       "      <td>...</td>\n",
       "      <td>...</td>\n",
       "      <td>...</td>\n",
       "      <td>...</td>\n",
       "    </tr>\n",
       "    <tr>\n",
       "      <th>162</th>\n",
       "      <td>Vanuatu</td>\n",
       "      <td>29.2</td>\n",
       "      <td>46.6</td>\n",
       "      <td>5.25</td>\n",
       "      <td>52.7</td>\n",
       "      <td>2950</td>\n",
       "      <td>2.62</td>\n",
       "      <td>63.0</td>\n",
       "      <td>3.50</td>\n",
       "      <td>2970</td>\n",
       "      <td>2</td>\n",
       "    </tr>\n",
       "    <tr>\n",
       "      <th>163</th>\n",
       "      <td>Venezuela</td>\n",
       "      <td>17.1</td>\n",
       "      <td>28.5</td>\n",
       "      <td>4.91</td>\n",
       "      <td>17.6</td>\n",
       "      <td>16500</td>\n",
       "      <td>45.90</td>\n",
       "      <td>75.4</td>\n",
       "      <td>2.47</td>\n",
       "      <td>13500</td>\n",
       "      <td>2</td>\n",
       "    </tr>\n",
       "    <tr>\n",
       "      <th>164</th>\n",
       "      <td>Vietnam</td>\n",
       "      <td>23.3</td>\n",
       "      <td>72.0</td>\n",
       "      <td>6.84</td>\n",
       "      <td>80.2</td>\n",
       "      <td>4490</td>\n",
       "      <td>12.10</td>\n",
       "      <td>73.1</td>\n",
       "      <td>1.95</td>\n",
       "      <td>1310</td>\n",
       "      <td>2</td>\n",
       "    </tr>\n",
       "    <tr>\n",
       "      <th>165</th>\n",
       "      <td>Yemen</td>\n",
       "      <td>56.3</td>\n",
       "      <td>30.0</td>\n",
       "      <td>5.18</td>\n",
       "      <td>34.4</td>\n",
       "      <td>4480</td>\n",
       "      <td>23.60</td>\n",
       "      <td>67.5</td>\n",
       "      <td>4.67</td>\n",
       "      <td>1310</td>\n",
       "      <td>1</td>\n",
       "    </tr>\n",
       "    <tr>\n",
       "      <th>166</th>\n",
       "      <td>Zambia</td>\n",
       "      <td>83.1</td>\n",
       "      <td>37.0</td>\n",
       "      <td>5.89</td>\n",
       "      <td>30.9</td>\n",
       "      <td>3280</td>\n",
       "      <td>14.00</td>\n",
       "      <td>52.0</td>\n",
       "      <td>5.40</td>\n",
       "      <td>1460</td>\n",
       "      <td>1</td>\n",
       "    </tr>\n",
       "  </tbody>\n",
       "</table>\n",
       "<p>167 rows × 11 columns</p>\n",
       "</div>"
      ],
      "text/plain": [
       "                 country  child_mort  exports  health  imports  income  \\\n",
       "0            Afghanistan        90.2     10.0    7.58     44.9    1610   \n",
       "1                Albania        16.6     28.0    6.55     48.6    9930   \n",
       "2                Algeria        27.3     38.4    4.17     31.4   12900   \n",
       "3                 Angola       119.0     62.3    2.85     42.9    5900   \n",
       "4    Antigua and Barbuda        10.3     45.5    6.03     58.9   19100   \n",
       "..                   ...         ...      ...     ...      ...     ...   \n",
       "162              Vanuatu        29.2     46.6    5.25     52.7    2950   \n",
       "163            Venezuela        17.1     28.5    4.91     17.6   16500   \n",
       "164              Vietnam        23.3     72.0    6.84     80.2    4490   \n",
       "165                Yemen        56.3     30.0    5.18     34.4    4480   \n",
       "166               Zambia        83.1     37.0    5.89     30.9    3280   \n",
       "\n",
       "     inflation  life_expec  total_fer   gdpp  ClusterID  \n",
       "0         9.44        56.2       5.82    553          1  \n",
       "1         4.49        76.3       1.65   4090          2  \n",
       "2        16.10        76.5       2.89   4460          2  \n",
       "3        22.40        60.1       6.16   3530          1  \n",
       "4         1.44        76.8       2.13  12200          2  \n",
       "..         ...         ...        ...    ...        ...  \n",
       "162       2.62        63.0       3.50   2970          2  \n",
       "163      45.90        75.4       2.47  13500          2  \n",
       "164      12.10        73.1       1.95   1310          2  \n",
       "165      23.60        67.5       4.67   1310          1  \n",
       "166      14.00        52.0       5.40   1460          1  \n",
       "\n",
       "[167 rows x 11 columns]"
      ]
     },
     "execution_count": 42,
     "metadata": {},
     "output_type": "execute_result"
    }
   ],
   "source": [
    "country_final=country_final.drop('index', axis=1)\n",
    "country_final"
   ]
  },
  {
   "cell_type": "markdown",
   "id": "58997c02",
   "metadata": {},
   "source": [
    "## Analysis of the clusters"
   ]
  },
  {
   "cell_type": "code",
   "execution_count": 44,
   "id": "30639f0a",
   "metadata": {},
   "outputs": [],
   "source": [
    "child_mort_mean = pd.DataFrame(country_final.groupby([\"ClusterID\"]).child_mort.mean())\n",
    "exports_mean= pd.DataFrame(country_final.groupby([\"ClusterID\"]).exports.mean())\n",
    "health_mean = pd.DataFrame(country_final.groupby([\"ClusterID\"]).health.mean())\n",
    "imports_mean = pd.DataFrame(country_final.groupby([\"ClusterID\"]).imports.mean())\n",
    "income_mean = pd.DataFrame(country_final.groupby([\"ClusterID\"]).income.mean())\n",
    "inflat_mean = pd.DataFrame(country_final.groupby([\"ClusterID\"]).inflation.mean())\n",
    "life_expec_mean = pd.DataFrame(country_final.groupby([\"ClusterID\"]).life_expec.mean())\n",
    "total_fer_mean = pd.DataFrame(country_final.groupby([\"ClusterID\"]).total_fer.mean())\n",
    "gdpp_mean = pd.DataFrame(country_final.groupby([\"ClusterID\"]).gdpp.mean())"
   ]
  },
  {
   "cell_type": "code",
   "execution_count": 47,
   "id": "0881e060",
   "metadata": {},
   "outputs": [],
   "source": [
    "country_analysis_df = pd.concat([pd.Series([0,1,2,3,4]),child_mort_mean,exports_mean,health_mean,imports_mean,income_mean,inflat_mean,life_expec_mean,\n",
    "                                 total_fer_mean,gdpp_mean], axis=1)"
   ]
  },
  {
   "cell_type": "code",
   "execution_count": 48,
   "id": "89fd2693",
   "metadata": {},
   "outputs": [
    {
     "data": {
      "text/html": [
       "<div>\n",
       "<style scoped>\n",
       "    .dataframe tbody tr th:only-of-type {\n",
       "        vertical-align: middle;\n",
       "    }\n",
       "\n",
       "    .dataframe tbody tr th {\n",
       "        vertical-align: top;\n",
       "    }\n",
       "\n",
       "    .dataframe thead th {\n",
       "        text-align: right;\n",
       "    }\n",
       "</style>\n",
       "<table border=\"1\" class=\"dataframe\">\n",
       "  <thead>\n",
       "    <tr style=\"text-align: right;\">\n",
       "      <th></th>\n",
       "      <th>ClusterID</th>\n",
       "      <th>child_mort_mean</th>\n",
       "      <th>exports_mean</th>\n",
       "      <th>health_mean</th>\n",
       "      <th>imports_mean</th>\n",
       "      <th>income_mean</th>\n",
       "      <th>inflation_mean</th>\n",
       "      <th>life_expec_mean</th>\n",
       "      <th>total_fer_mean</th>\n",
       "      <th>gdpp_mean</th>\n",
       "    </tr>\n",
       "  </thead>\n",
       "  <tbody>\n",
       "    <tr>\n",
       "      <th>0</th>\n",
       "      <td>0</td>\n",
       "      <td>5.181250</td>\n",
       "      <td>46.118750</td>\n",
       "      <td>9.088437</td>\n",
       "      <td>40.584375</td>\n",
       "      <td>44021.875000</td>\n",
       "      <td>2.513844</td>\n",
       "      <td>80.081250</td>\n",
       "      <td>1.788437</td>\n",
       "      <td>42118.750000</td>\n",
       "    </tr>\n",
       "    <tr>\n",
       "      <th>1</th>\n",
       "      <td>1</td>\n",
       "      <td>93.384444</td>\n",
       "      <td>29.009111</td>\n",
       "      <td>6.372889</td>\n",
       "      <td>43.060000</td>\n",
       "      <td>3720.955556</td>\n",
       "      <td>9.873889</td>\n",
       "      <td>58.980000</td>\n",
       "      <td>4.999556</td>\n",
       "      <td>1856.044444</td>\n",
       "    </tr>\n",
       "    <tr>\n",
       "      <th>2</th>\n",
       "      <td>2</td>\n",
       "      <td>21.867442</td>\n",
       "      <td>41.054523</td>\n",
       "      <td>6.222791</td>\n",
       "      <td>47.754255</td>\n",
       "      <td>12671.744186</td>\n",
       "      <td>7.713884</td>\n",
       "      <td>72.805814</td>\n",
       "      <td>2.326977</td>\n",
       "      <td>6496.069767</td>\n",
       "    </tr>\n",
       "    <tr>\n",
       "      <th>3</th>\n",
       "      <td>3</td>\n",
       "      <td>4.133333</td>\n",
       "      <td>176.000000</td>\n",
       "      <td>6.793333</td>\n",
       "      <td>156.666667</td>\n",
       "      <td>64033.333333</td>\n",
       "      <td>2.468000</td>\n",
       "      <td>81.433333</td>\n",
       "      <td>1.380000</td>\n",
       "      <td>57566.666667</td>\n",
       "    </tr>\n",
       "    <tr>\n",
       "      <th>4</th>\n",
       "      <td>4</td>\n",
       "      <td>130.000000</td>\n",
       "      <td>25.300000</td>\n",
       "      <td>5.070000</td>\n",
       "      <td>17.400000</td>\n",
       "      <td>5150.000000</td>\n",
       "      <td>104.000000</td>\n",
       "      <td>60.500000</td>\n",
       "      <td>5.840000</td>\n",
       "      <td>2330.000000</td>\n",
       "    </tr>\n",
       "  </tbody>\n",
       "</table>\n",
       "</div>"
      ],
      "text/plain": [
       "   ClusterID  child_mort_mean  exports_mean  health_mean  imports_mean  \\\n",
       "0          0         5.181250     46.118750     9.088437     40.584375   \n",
       "1          1        93.384444     29.009111     6.372889     43.060000   \n",
       "2          2        21.867442     41.054523     6.222791     47.754255   \n",
       "3          3         4.133333    176.000000     6.793333    156.666667   \n",
       "4          4       130.000000     25.300000     5.070000     17.400000   \n",
       "\n",
       "    income_mean  inflation_mean  life_expec_mean  total_fer_mean     gdpp_mean  \n",
       "0  44021.875000        2.513844        80.081250        1.788437  42118.750000  \n",
       "1   3720.955556        9.873889        58.980000        4.999556   1856.044444  \n",
       "2  12671.744186        7.713884        72.805814        2.326977   6496.069767  \n",
       "3  64033.333333        2.468000        81.433333        1.380000  57566.666667  \n",
       "4   5150.000000      104.000000        60.500000        5.840000   2330.000000  "
      ]
     },
     "execution_count": 48,
     "metadata": {},
     "output_type": "execute_result"
    }
   ],
   "source": [
    "country_analysis_df.columns = [\"ClusterID\",\"child_mort_mean\",\"exports_mean\",\"health_mean\",\"imports_mean\",\"income_mean\",\"inflation_mean\",\"life_expec_mean\",\"total_fer_mean\",\"gdpp_mean\"]\n",
    "country_analysis_df"
   ]
  },
  {
   "cell_type": "code",
   "execution_count": 49,
   "id": "e724caea",
   "metadata": {},
   "outputs": [
    {
     "name": "stderr",
     "output_type": "stream",
     "text": [
      "C:\\Users\\user\\anaconda3\\lib\\site-packages\\seaborn\\_decorators.py:36: FutureWarning: Pass the following variables as keyword args: x, y. From version 0.12, the only valid positional argument will be `data`, and passing other arguments without an explicit keyword will result in an error or misinterpretation.\n",
      "  warnings.warn(\n",
      "C:\\Users\\user\\anaconda3\\lib\\site-packages\\seaborn\\_decorators.py:36: FutureWarning: Pass the following variables as keyword args: x, y. From version 0.12, the only valid positional argument will be `data`, and passing other arguments without an explicit keyword will result in an error or misinterpretation.\n",
      "  warnings.warn(\n",
      "C:\\Users\\user\\anaconda3\\lib\\site-packages\\seaborn\\_decorators.py:36: FutureWarning: Pass the following variables as keyword args: x, y. From version 0.12, the only valid positional argument will be `data`, and passing other arguments without an explicit keyword will result in an error or misinterpretation.\n",
      "  warnings.warn(\n",
      "C:\\Users\\user\\anaconda3\\lib\\site-packages\\seaborn\\_decorators.py:36: FutureWarning: Pass the following variables as keyword args: x, y. From version 0.12, the only valid positional argument will be `data`, and passing other arguments without an explicit keyword will result in an error or misinterpretation.\n",
      "  warnings.warn(\n",
      "C:\\Users\\user\\anaconda3\\lib\\site-packages\\seaborn\\_decorators.py:36: FutureWarning: Pass the following variables as keyword args: x, y. From version 0.12, the only valid positional argument will be `data`, and passing other arguments without an explicit keyword will result in an error or misinterpretation.\n",
      "  warnings.warn(\n",
      "C:\\Users\\user\\anaconda3\\lib\\site-packages\\seaborn\\_decorators.py:36: FutureWarning: Pass the following variables as keyword args: x, y. From version 0.12, the only valid positional argument will be `data`, and passing other arguments without an explicit keyword will result in an error or misinterpretation.\n",
      "  warnings.warn(\n",
      "C:\\Users\\user\\anaconda3\\lib\\site-packages\\seaborn\\_decorators.py:36: FutureWarning: Pass the following variables as keyword args: x, y. From version 0.12, the only valid positional argument will be `data`, and passing other arguments without an explicit keyword will result in an error or misinterpretation.\n",
      "  warnings.warn(\n",
      "C:\\Users\\user\\anaconda3\\lib\\site-packages\\seaborn\\_decorators.py:36: FutureWarning: Pass the following variables as keyword args: x, y. From version 0.12, the only valid positional argument will be `data`, and passing other arguments without an explicit keyword will result in an error or misinterpretation.\n",
      "  warnings.warn(\n",
      "C:\\Users\\user\\anaconda3\\lib\\site-packages\\seaborn\\_decorators.py:36: FutureWarning: Pass the following variables as keyword args: x, y. From version 0.12, the only valid positional argument will be `data`, and passing other arguments without an explicit keyword will result in an error or misinterpretation.\n",
      "  warnings.warn(\n"
     ]
    },
    {
     "data": {
      "image/png": "[encoded data removed]",
      "text/plain": [
       "<Figure size 1296x1296 with 9 Axes>"
      ]
     },
     "metadata": {
      "needs_background": "light"
     },
     "output_type": "display_data"
    }
   ],
   "source": [
    "plt.figure(figsize = (18,18))\n",
    "plt.figure(1)\n",
    "\n",
    "# subplot 1\n",
    "plt.subplot(3, 3, 1)\n",
    "plt.title(\"child_mort_mean\")\n",
    "sns.barplot(country_analysis_df.ClusterID, country_analysis_df.child_mort_mean)\n",
    "\n",
    "# subplot 2 \n",
    "plt.subplot(3, 3, 2)\n",
    "plt.title(\"exports_mean\")\n",
    "sns.barplot(country_analysis_df.ClusterID, country_analysis_df.exports_mean)\n",
    "\n",
    "# subplot 3\n",
    "#plt.figure(2)\n",
    "plt.subplot(3, 3, 3)\n",
    "plt.title(\"health_mean\")\n",
    "sns.barplot(country_analysis_df.ClusterID, country_analysis_df.health_mean)\n",
    "\n",
    "# subplot 4 \n",
    "plt.subplot(3, 3, 4)\n",
    "plt.title(\"imports_mean\")\n",
    "sns.barplot(country_analysis_df.ClusterID, country_analysis_df.imports_mean)\n",
    "\n",
    "# subplot 5 \n",
    "plt.subplot(3, 3, 5)\n",
    "plt.title(\"income_mean\")\n",
    "sns.barplot(country_analysis_df.ClusterID, country_analysis_df.income_mean)\n",
    "\n",
    "# subplot 6 \n",
    "plt.subplot(3, 3, 6)\n",
    "plt.title(\"inflation_mean\")\n",
    "sns.barplot(country_analysis_df.ClusterID, country_analysis_df.inflation_mean)\n",
    "\n",
    "# subplot 7 \n",
    "plt.subplot(3, 3, 7)\n",
    "plt.title(\"life_expec_mean\")\n",
    "sns.barplot(country_analysis_df.ClusterID, country_analysis_df.life_expec_mean)\n",
    "\n",
    "# subplot 8\n",
    "plt.subplot(3, 3, 8)\n",
    "plt.title(\"total_fer_mean\")\n",
    "sns.barplot(country_analysis_df.ClusterID, country_analysis_df.total_fer_mean)\n",
    "\n",
    "# subplot 9\n",
    "plt.subplot(3, 3, 9)\n",
    "plt.title(\"gdpp_mean\")\n",
    "sns.barplot(country_analysis_df.ClusterID, country_analysis_df.gdpp_mean)\n",
    "\n",
    "plt.show()\n"
   ]
  },
  {
   "cell_type": "markdown",
   "id": "0c01df22",
   "metadata": {},
   "source": [
    "    Looking at the graph we are certain that cluster 1 is our cluster of concern. Because:\n",
    "\n",
    "    1. It has highest child mortality\n",
    "    2. Lowest income\n",
    "    3. Highest Inflation\n",
    "    4. Compartively low life expectancy \n",
    "    5. Highest total fertility \n",
    "    6. Lowest gdpp."
   ]
  },
  {
   "cell_type": "code",
   "execution_count": 50,
   "id": "afa19fa4",
   "metadata": {},
   "outputs": [
    {
     "data": {
      "text/html": [
       "<div>\n",
       "<style scoped>\n",
       "    .dataframe tbody tr th:only-of-type {\n",
       "        vertical-align: middle;\n",
       "    }\n",
       "\n",
       "    .dataframe tbody tr th {\n",
       "        vertical-align: top;\n",
       "    }\n",
       "\n",
       "    .dataframe thead th {\n",
       "        text-align: right;\n",
       "    }\n",
       "</style>\n",
       "<table border=\"1\" class=\"dataframe\">\n",
       "  <thead>\n",
       "    <tr style=\"text-align: right;\">\n",
       "      <th></th>\n",
       "      <th>country</th>\n",
       "      <th>child_mort</th>\n",
       "      <th>exports</th>\n",
       "      <th>health</th>\n",
       "      <th>imports</th>\n",
       "      <th>income</th>\n",
       "      <th>inflation</th>\n",
       "      <th>life_expec</th>\n",
       "      <th>total_fer</th>\n",
       "      <th>gdpp</th>\n",
       "      <th>ClusterID</th>\n",
       "    </tr>\n",
       "  </thead>\n",
       "  <tbody>\n",
       "    <tr>\n",
       "      <th>26</th>\n",
       "      <td>Burundi</td>\n",
       "      <td>93.6</td>\n",
       "      <td>8.92</td>\n",
       "      <td>11.60</td>\n",
       "      <td>39.2</td>\n",
       "      <td>764</td>\n",
       "      <td>12.30</td>\n",
       "      <td>57.7</td>\n",
       "      <td>6.26</td>\n",
       "      <td>231</td>\n",
       "      <td>1</td>\n",
       "    </tr>\n",
       "    <tr>\n",
       "      <th>88</th>\n",
       "      <td>Liberia</td>\n",
       "      <td>89.3</td>\n",
       "      <td>19.10</td>\n",
       "      <td>11.80</td>\n",
       "      <td>92.6</td>\n",
       "      <td>700</td>\n",
       "      <td>5.47</td>\n",
       "      <td>60.8</td>\n",
       "      <td>5.02</td>\n",
       "      <td>327</td>\n",
       "      <td>1</td>\n",
       "    </tr>\n",
       "    <tr>\n",
       "      <th>37</th>\n",
       "      <td>Congo, Dem. Rep.</td>\n",
       "      <td>116.0</td>\n",
       "      <td>41.10</td>\n",
       "      <td>7.91</td>\n",
       "      <td>49.6</td>\n",
       "      <td>609</td>\n",
       "      <td>20.80</td>\n",
       "      <td>57.5</td>\n",
       "      <td>6.54</td>\n",
       "      <td>334</td>\n",
       "      <td>1</td>\n",
       "    </tr>\n",
       "    <tr>\n",
       "      <th>112</th>\n",
       "      <td>Niger</td>\n",
       "      <td>123.0</td>\n",
       "      <td>22.20</td>\n",
       "      <td>5.16</td>\n",
       "      <td>49.1</td>\n",
       "      <td>814</td>\n",
       "      <td>2.55</td>\n",
       "      <td>58.8</td>\n",
       "      <td>7.49</td>\n",
       "      <td>348</td>\n",
       "      <td>1</td>\n",
       "    </tr>\n",
       "    <tr>\n",
       "      <th>132</th>\n",
       "      <td>Sierra Leone</td>\n",
       "      <td>160.0</td>\n",
       "      <td>16.80</td>\n",
       "      <td>13.10</td>\n",
       "      <td>34.5</td>\n",
       "      <td>1220</td>\n",
       "      <td>17.20</td>\n",
       "      <td>55.0</td>\n",
       "      <td>5.20</td>\n",
       "      <td>399</td>\n",
       "      <td>1</td>\n",
       "    </tr>\n",
       "    <tr>\n",
       "      <th>93</th>\n",
       "      <td>Madagascar</td>\n",
       "      <td>62.2</td>\n",
       "      <td>25.00</td>\n",
       "      <td>3.77</td>\n",
       "      <td>43.0</td>\n",
       "      <td>1390</td>\n",
       "      <td>8.79</td>\n",
       "      <td>60.8</td>\n",
       "      <td>4.60</td>\n",
       "      <td>413</td>\n",
       "      <td>1</td>\n",
       "    </tr>\n",
       "    <tr>\n",
       "      <th>106</th>\n",
       "      <td>Mozambique</td>\n",
       "      <td>101.0</td>\n",
       "      <td>31.50</td>\n",
       "      <td>5.21</td>\n",
       "      <td>46.2</td>\n",
       "      <td>918</td>\n",
       "      <td>7.64</td>\n",
       "      <td>54.5</td>\n",
       "      <td>5.56</td>\n",
       "      <td>419</td>\n",
       "      <td>1</td>\n",
       "    </tr>\n",
       "    <tr>\n",
       "      <th>31</th>\n",
       "      <td>Central African Republic</td>\n",
       "      <td>149.0</td>\n",
       "      <td>11.80</td>\n",
       "      <td>3.98</td>\n",
       "      <td>26.5</td>\n",
       "      <td>888</td>\n",
       "      <td>2.01</td>\n",
       "      <td>47.5</td>\n",
       "      <td>5.21</td>\n",
       "      <td>446</td>\n",
       "      <td>1</td>\n",
       "    </tr>\n",
       "    <tr>\n",
       "      <th>94</th>\n",
       "      <td>Malawi</td>\n",
       "      <td>90.5</td>\n",
       "      <td>22.80</td>\n",
       "      <td>6.59</td>\n",
       "      <td>34.9</td>\n",
       "      <td>1030</td>\n",
       "      <td>12.10</td>\n",
       "      <td>53.1</td>\n",
       "      <td>5.31</td>\n",
       "      <td>459</td>\n",
       "      <td>1</td>\n",
       "    </tr>\n",
       "    <tr>\n",
       "      <th>50</th>\n",
       "      <td>Eritrea</td>\n",
       "      <td>55.2</td>\n",
       "      <td>4.79</td>\n",
       "      <td>2.66</td>\n",
       "      <td>23.3</td>\n",
       "      <td>1420</td>\n",
       "      <td>11.60</td>\n",
       "      <td>61.7</td>\n",
       "      <td>4.61</td>\n",
       "      <td>482</td>\n",
       "      <td>1</td>\n",
       "    </tr>\n",
       "  </tbody>\n",
       "</table>\n",
       "</div>"
      ],
      "text/plain": [
       "                      country  child_mort  exports  health  imports  income  \\\n",
       "26                    Burundi        93.6     8.92   11.60     39.2     764   \n",
       "88                    Liberia        89.3    19.10   11.80     92.6     700   \n",
       "37           Congo, Dem. Rep.       116.0    41.10    7.91     49.6     609   \n",
       "112                     Niger       123.0    22.20    5.16     49.1     814   \n",
       "132              Sierra Leone       160.0    16.80   13.10     34.5    1220   \n",
       "93                 Madagascar        62.2    25.00    3.77     43.0    1390   \n",
       "106                Mozambique       101.0    31.50    5.21     46.2     918   \n",
       "31   Central African Republic       149.0    11.80    3.98     26.5     888   \n",
       "94                     Malawi        90.5    22.80    6.59     34.9    1030   \n",
       "50                    Eritrea        55.2     4.79    2.66     23.3    1420   \n",
       "\n",
       "     inflation  life_expec  total_fer  gdpp  ClusterID  \n",
       "26       12.30        57.7       6.26   231          1  \n",
       "88        5.47        60.8       5.02   327          1  \n",
       "37       20.80        57.5       6.54   334          1  \n",
       "112       2.55        58.8       7.49   348          1  \n",
       "132      17.20        55.0       5.20   399          1  \n",
       "93        8.79        60.8       4.60   413          1  \n",
       "106       7.64        54.5       5.56   419          1  \n",
       "31        2.01        47.5       5.21   446          1  \n",
       "94       12.10        53.1       5.31   459          1  \n",
       "50       11.60        61.7       4.61   482          1  "
      ]
     },
     "execution_count": 50,
     "metadata": {},
     "output_type": "execute_result"
    }
   ],
   "source": [
    "#Getting top 10 countries which need direst attention.\n",
    "cluster_km=country_final[country_final['ClusterID']==1]\n",
    "cluster_km.sort_values(['gdpp','income','child_mort','health','inflation','life_expec','total_fer','imports','exports'], \n",
    "                      ascending=[True,True,False,True,False,True,False,False,True]).head(10)"
   ]
  },
  {
   "cell_type": "markdown",
   "id": "641e0dae",
   "metadata": {},
   "source": [
    "    As per K- means clustering, the country which are direst need of aid are:\n",
    "\n",
    "    1. Burundi\n",
    "    2. Liberia\n",
    "    3. Congo, Dem. Rep\n",
    "    4. Niger\n",
    "    5. Sierra Leone\n",
    "    6. Madagascar\n",
    "    7. Mozambique\n",
    "    8. Central African Republic\n",
    "    9. Malawi\n",
    "    10.Eritrea"
   ]
  },
  {
   "cell_type": "code",
   "execution_count": null,
   "id": "43563d2b",
   "metadata": {},
   "outputs": [],
   "source": []
  }
 ],
 "metadata": {
  "kernelspec": {
   "display_name": "Python 3 (ipykernel)",
   "language": "python",
   "name": "python3"
  },
  "language_info": {
   "codemirror_mode": {
    "name": "ipython",
    "version": 3
   },
   "file_extension": ".py",
   "mimetype": "text/x-python",
   "name": "python",
   "nbconvert_exporter": "python",
   "pygments_lexer": "ipython3",
   "version": "3.9.7"
  }
 },
 "nbformat": 4,
 "nbformat_minor": 5
}
